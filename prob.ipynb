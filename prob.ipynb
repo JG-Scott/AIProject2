{
 "cells": [
  {
   "cell_type": "code",
   "execution_count": 1,
   "id": "initial_id",
   "metadata": {
    "ExecuteTime": {
     "end_time": "2024-04-09T10:41:16.392150Z",
     "start_time": "2024-04-09T10:41:14.621718Z"
    }
   },
   "outputs": [],
   "source": [
    "import pandas as pd\n",
    "from sklearn.model_selection import train_test_split\n",
    "import json"
   ]
  },
  {
   "cell_type": "code",
   "execution_count": 2,
   "id": "32a14b2fda56c4c",
   "metadata": {
    "collapsed": false,
    "ExecuteTime": {
     "end_time": "2024-04-09T10:41:16.402307Z",
     "start_time": "2024-04-09T10:41:16.394179Z"
    }
   },
   "outputs": [],
   "source": [
    "# reads in the json file, only to the max entries and returns them as json_array, if max entries is set to 0 then it reads the full thing\n",
    "def read_partial_json_file(filename, max_entries=0, encoding='utf-8'):\n",
    "    json_array = []\n",
    "    with open(filename, 'r', encoding=encoding) as file:\n",
    "        if max_entries == 0:\n",
    "            for line in file:\n",
    "                json_array.append(json.loads(line))\n",
    "        else:\n",
    "            for _ in range(max_entries):\n",
    "                line = file.readline()\n",
    "                if not line:\n",
    "                    break\n",
    "                json_array.append(json.loads(line))\n",
    "    return json_array\n",
    "\n",
    "def add_missing_keys(json_array):\n",
    "    for obj in json_array:\n",
    "        for key in ['stars', 'useful', 'funny', 'cool', 'text']:\n",
    "            if key not in obj:\n",
    "                obj[key] = 0\n",
    "                print(\"Key {} not found in json\".format(key))\n",
    "    return json_array\n",
    "\n",
    "# removes specified keys from json array\n",
    "def remove_keys(json_array, keys_to_remove):\n",
    "    for obj in json_array:\n",
    "        for key in keys_to_remove:\n",
    "            obj.pop(key, None)\n",
    "    return json_array\n",
    "\n",
    "def ConvertJSONFileToDataFrame(filename, max_entries=1000, encoding='utf-8'):\n",
    "    #load in the json array\n",
    "    json_array = read_partial_json_file(filename, max_entries, encoding)\n",
    "    #add in the missing keys, will set to 0 for now but a heuristic for this will have to be made.\n",
    "    json_array = add_missing_keys(json_array)\n",
    "    df = pd.DataFrame(json_array)\n",
    "    ColumnsToRemove = ['business_id', 'user_id', 'date', 'review_id']\n",
    "    df = df.drop(columns=ColumnsToRemove)\n",
    "    return df"
   ]
  },
  {
   "cell_type": "code",
   "execution_count": 3,
   "id": "5ffe735463d493ca",
   "metadata": {
    "collapsed": false,
    "ExecuteTime": {
     "end_time": "2024-04-09T10:41:16.487479Z",
     "start_time": "2024-04-09T10:41:16.403370Z"
    }
   },
   "outputs": [
    {
     "data": {
      "text/plain": "   stars  useful  funny  cool  \\\n0    3.0       0      0     0   \n1    5.0       1      0     1   \n2    3.0       0      0     0   \n3    5.0       1      0     1   \n4    4.0       1      0     1   \n5    1.0       1      2     1   \n6    5.0       0      2     0   \n7    5.0       2      0     0   \n8    3.0       1      1     0   \n9    3.0       0      0     0   \n\n                                                text  \n0  If you decide to eat here, just be aware it is...  \n1  I've taken a lot of spin classes over the year...  \n2  Family diner. Had the buffet. Eclectic assortm...  \n3  Wow!  Yummy, different,  delicious.   Our favo...  \n4  Cute interior and owner (?) gave us tour of up...  \n5  I am a long term frequent customer of this est...  \n6  Loved this tour! I grabbed a groupon and the p...  \n7  Amazingly amazing wings and homemade bleu chee...  \n8  This easter instead of going to Lopez Lake we ...  \n9  Had a party of 6 here for hibachi. Our waitres...  ",
      "text/html": "<div>\n<style scoped>\n    .dataframe tbody tr th:only-of-type {\n        vertical-align: middle;\n    }\n\n    .dataframe tbody tr th {\n        vertical-align: top;\n    }\n\n    .dataframe thead th {\n        text-align: right;\n    }\n</style>\n<table border=\"1\" class=\"dataframe\">\n  <thead>\n    <tr style=\"text-align: right;\">\n      <th></th>\n      <th>stars</th>\n      <th>useful</th>\n      <th>funny</th>\n      <th>cool</th>\n      <th>text</th>\n    </tr>\n  </thead>\n  <tbody>\n    <tr>\n      <th>0</th>\n      <td>3.0</td>\n      <td>0</td>\n      <td>0</td>\n      <td>0</td>\n      <td>If you decide to eat here, just be aware it is...</td>\n    </tr>\n    <tr>\n      <th>1</th>\n      <td>5.0</td>\n      <td>1</td>\n      <td>0</td>\n      <td>1</td>\n      <td>I've taken a lot of spin classes over the year...</td>\n    </tr>\n    <tr>\n      <th>2</th>\n      <td>3.0</td>\n      <td>0</td>\n      <td>0</td>\n      <td>0</td>\n      <td>Family diner. Had the buffet. Eclectic assortm...</td>\n    </tr>\n    <tr>\n      <th>3</th>\n      <td>5.0</td>\n      <td>1</td>\n      <td>0</td>\n      <td>1</td>\n      <td>Wow!  Yummy, different,  delicious.   Our favo...</td>\n    </tr>\n    <tr>\n      <th>4</th>\n      <td>4.0</td>\n      <td>1</td>\n      <td>0</td>\n      <td>1</td>\n      <td>Cute interior and owner (?) gave us tour of up...</td>\n    </tr>\n    <tr>\n      <th>5</th>\n      <td>1.0</td>\n      <td>1</td>\n      <td>2</td>\n      <td>1</td>\n      <td>I am a long term frequent customer of this est...</td>\n    </tr>\n    <tr>\n      <th>6</th>\n      <td>5.0</td>\n      <td>0</td>\n      <td>2</td>\n      <td>0</td>\n      <td>Loved this tour! I grabbed a groupon and the p...</td>\n    </tr>\n    <tr>\n      <th>7</th>\n      <td>5.0</td>\n      <td>2</td>\n      <td>0</td>\n      <td>0</td>\n      <td>Amazingly amazing wings and homemade bleu chee...</td>\n    </tr>\n    <tr>\n      <th>8</th>\n      <td>3.0</td>\n      <td>1</td>\n      <td>1</td>\n      <td>0</td>\n      <td>This easter instead of going to Lopez Lake we ...</td>\n    </tr>\n    <tr>\n      <th>9</th>\n      <td>3.0</td>\n      <td>0</td>\n      <td>0</td>\n      <td>0</td>\n      <td>Had a party of 6 here for hibachi. Our waitres...</td>\n    </tr>\n  </tbody>\n</table>\n</div>"
     },
     "execution_count": 3,
     "metadata": {},
     "output_type": "execute_result"
    }
   ],
   "source": [
    "\n",
    "filename = 'yelp_academic_dataset_review.json'\n",
    "df = ConvertJSONFileToDataFrame(filename, max_entries=5000)\n",
    "df.head(10)"
   ]
  },
  {
   "cell_type": "code",
   "execution_count": 4,
   "id": "4df2077b4035cc5e",
   "metadata": {
    "collapsed": false,
    "ExecuteTime": {
     "end_time": "2024-04-09T10:41:16.498359Z",
     "start_time": "2024-04-09T10:41:16.489472Z"
    }
   },
   "outputs": [],
   "source": [
    "train, validation = train_test_split(df, test_size=0.2, random_state=4, shuffle=True)"
   ]
  },
  {
   "cell_type": "code",
   "execution_count": 5,
   "id": "73312a64-c93a-402e-95c6-2ee0050a9de5",
   "metadata": {
    "ExecuteTime": {
     "end_time": "2024-04-09T10:41:16.510113Z",
     "start_time": "2024-04-09T10:41:16.502348Z"
    }
   },
   "outputs": [],
   "source": [
    "train, test = train_test_split(train, test_size=0.25, random_state=89, shuffle=True)"
   ]
  },
  {
   "cell_type": "code",
   "execution_count": 6,
   "id": "bb3a740e-72e3-4f3b-9a4f-f86fbe8ea656",
   "metadata": {
    "ExecuteTime": {
     "end_time": "2024-04-09T10:41:16.529779Z",
     "start_time": "2024-04-09T10:41:16.512118Z"
    }
   },
   "outputs": [],
   "source": [
    "df = train.groupby(by='stars').agg('count').reset_index()"
   ]
  },
  {
   "cell_type": "code",
   "execution_count": 7,
   "id": "3301f19e-d8e6-4b02-bc74-a494481cac2b",
   "metadata": {
    "ExecuteTime": {
     "end_time": "2024-04-09T10:41:16.539261Z",
     "start_time": "2024-04-09T10:41:16.531775Z"
    }
   },
   "outputs": [
    {
     "data": {
      "text/plain": "1000"
     },
     "execution_count": 7,
     "metadata": {},
     "output_type": "execute_result"
    }
   ],
   "source": [
    "len(validation)"
   ]
  },
  {
   "cell_type": "markdown",
   "id": "86298aee-8830-4334-8397-97e914424057",
   "metadata": {},
   "source": [
    "## Pickles Setup"
   ]
  },
  {
   "cell_type": "code",
   "execution_count": 8,
   "id": "1101a78a-1fb9-4159-a893-05c9186c176b",
   "metadata": {
    "ExecuteTime": {
     "end_time": "2024-04-09T10:41:16.547327Z",
     "start_time": "2024-04-09T10:41:16.542249Z"
    }
   },
   "outputs": [],
   "source": [
    "# Local names of files for Pickles. Putting valid pickle names runs the pickle\n",
    "pickleFileMultinomialNB = ''"
   ]
  },
  {
   "cell_type": "code",
   "execution_count": 9,
   "id": "430af0d3-f857-413e-b338-26d4fc1c659d",
   "metadata": {
    "ExecuteTime": {
     "end_time": "2024-04-09T10:41:16.555564Z",
     "start_time": "2024-04-09T10:41:16.549311Z"
    }
   },
   "outputs": [],
   "source": [
    "from sklearn.metrics import confusion_matrix, accuracy_score, classification_report, f1_score, mean_squared_error, ConfusionMatrixDisplay"
   ]
  },
  {
   "cell_type": "markdown",
   "id": "d841ce83-1e0c-453e-bd2a-17a8efd8a0c3",
   "metadata": {},
   "source": [
    "## Count the totals fo each star rating"
   ]
  },
  {
   "cell_type": "markdown",
   "source": [],
   "metadata": {
    "collapsed": false
   },
   "id": "4ed8b5aa61618c32"
  },
  {
   "cell_type": "code",
   "execution_count": 10,
   "id": "ee8eb814-85b8-43b1-bf2d-c52adf798e56",
   "metadata": {
    "ExecuteTime": {
     "end_time": "2024-04-09T10:41:16.569707Z",
     "start_time": "2024-04-09T10:41:16.558552Z"
    }
   },
   "outputs": [],
   "source": [
    "oneCount = int((df.loc[df['stars']==1.0]['text'].astype(int)).iloc[0])\n",
    "twoCount = int((df.loc[df['stars']==2.0]['text'].astype(int)).iloc[0])\n",
    "threeCount = int((df.loc[df['stars']==3.0]['text'].astype(int)).iloc[0])\n",
    "fourCount = int((df.loc[df['stars']==4.0]['text'].astype(int)).iloc[0])\n",
    "fiveCount = int((df.loc[df['stars']==5.0]['text'].astype(int)).iloc[0])"
   ]
  },
  {
   "cell_type": "markdown",
   "id": "3b8b865d-dd29-4006-900d-b35bc0b38b78",
   "metadata": {},
   "source": [
    "## Get total counts and starting probabilities"
   ]
  },
  {
   "cell_type": "code",
   "execution_count": 11,
   "id": "8ca3128c-df80-4bb5-b146-29596471c2e9",
   "metadata": {
    "ExecuteTime": {
     "end_time": "2024-04-09T10:41:16.577488Z",
     "start_time": "2024-04-09T10:41:16.571699Z"
    }
   },
   "outputs": [],
   "source": [
    "# Probability distribution\n",
    "totalCount = oneCount + twoCount + threeCount + fourCount + fiveCount\n",
    "p_catagory = {'1.0':oneCount/totalCount,'2.0':twoCount/totalCount,'3.0':threeCount/totalCount,'4.0':fourCount/totalCount,'5.0':fiveCount/totalCount}\n",
    "ps_catagory = [float(oneCount/totalCount),twoCount/totalCount,threeCount/totalCount,fourCount/totalCount,fiveCount/totalCount]"
   ]
  },
  {
   "cell_type": "code",
   "execution_count": 12,
   "id": "27efe539-5bbd-4b1b-a294-3cb86dd8986d",
   "metadata": {
    "ExecuteTime": {
     "end_time": "2024-04-09T10:41:16.603979Z",
     "start_time": "2024-04-09T10:41:16.579480Z"
    }
   },
   "outputs": [],
   "source": [
    "from sklearn.pipeline import make_pipeline\n",
    "from sklearn.feature_extraction.text import TfidfVectorizer, CountVectorizer\n",
    "from sklearn.naive_bayes import MultinomialNB\n",
    "from sklearn.metrics import confusion_matrix, accuracy_score, classification_report, f1_score"
   ]
  },
  {
   "cell_type": "code",
   "execution_count": 13,
   "id": "158b4de8-c379-423f-97ec-740f36e59928",
   "metadata": {
    "ExecuteTime": {
     "end_time": "2024-04-09T10:41:16.609347Z",
     "start_time": "2024-04-09T10:41:16.604971Z"
    }
   },
   "outputs": [],
   "source": [
    "bigDict = [{},{},{},{},{}]\n",
    "allwords = {}"
   ]
  },
  {
   "cell_type": "markdown",
   "id": "954680f0-ecbd-4189-bbe9-15c7e323240e",
   "metadata": {},
   "source": [
    "## Organize, Set Probability Dictionaries, Sum"
   ]
  },
  {
   "cell_type": "code",
   "execution_count": 14,
   "id": "6960cae4-f108-4a6c-b719-5a31bda86817",
   "metadata": {
    "ExecuteTime": {
     "end_time": "2024-04-09T10:41:17.264097Z",
     "start_time": "2024-04-09T10:41:16.614368Z"
    }
   },
   "outputs": [],
   "source": [
    "for row_index, row in train.iterrows():\n",
    "    c = int(row[\"stars\"])-1\n",
    "    if(c == -1):\n",
    "        print(\"WARNING!\")\n",
    "    content = row['text']\n",
    "    for word in content.lower().split():\n",
    "        if word in bigDict[c]:\n",
    "            bigDict[c][word] += 1.0\n",
    "        else:\n",
    "            bigDict[c][word] = 1.0\n",
    "        if word not in allwords:\n",
    "            allwords[word] = 1.0\n",
    "        else:\n",
    "            allwords[word] += 1.0\n",
    "\n",
    "\n",
    "for word in allwords.keys():\n",
    "    for dict in bigDict:\n",
    "        if word in dict:\n",
    "            dict[word] += 1.0\n",
    "        else:\n",
    "            dict[word] = 1.0"
   ]
  },
  {
   "cell_type": "markdown",
   "id": "a37ac243-e7ae-4af9-b33a-76c516133c43",
   "metadata": {},
   "source": [
    "## Fine Tune, Remove 1 Sums and Abundant Classifiers"
   ]
  },
  {
   "cell_type": "code",
   "execution_count": 15,
   "id": "fb1ccfda-b7c0-4a93-9b7a-4df0a28371cc",
   "metadata": {
    "ExecuteTime": {
     "end_time": "2024-04-09T10:41:17.322119Z",
     "start_time": "2024-04-09T10:41:17.265130Z"
    }
   },
   "outputs": [],
   "source": [
    "# Discard all 1 mentions\n",
    "allwordssorted = {k: v for k, v in sorted(allwords.items(), key=lambda item: item[1])}\n",
    "from math import floor\n",
    "threshold = list(allwordssorted.keys())[floor(len(allwordssorted)*0.98)]\n",
    "lowThreshold = list(allwordssorted.keys())[floor(len(allwordssorted)*0.02)]\n",
    "toDelete = []\n",
    "for word in allwordssorted.keys():\n",
    "    if allwordssorted[word] <= allwordssorted[lowThreshold]:\n",
    "        toDelete.append(word)\n",
    "    elif allwordssorted[word] > allwordssorted[threshold]:\n",
    "        toDelete.append(word)\n",
    "\n",
    "for word in toDelete:\n",
    "    del(allwordssorted[word])\n",
    "    for cat in bigDict:\n",
    "        del(cat[word])\n",
    "    del(allwords[word])"
   ]
  },
  {
   "cell_type": "markdown",
   "id": "7f1ec592-61fa-49db-99d1-b74585baa669",
   "metadata": {},
   "source": [
    "## Normalize"
   ]
  },
  {
   "cell_type": "code",
   "execution_count": 16,
   "id": "058d0f39-195e-4762-8376-4b9c915434cc",
   "metadata": {
    "ExecuteTime": {
     "end_time": "2024-04-09T10:41:17.373937Z",
     "start_time": "2024-04-09T10:41:17.325112Z"
    }
   },
   "outputs": [],
   "source": [
    "# Normalize\n",
    "for dict in bigDict:\n",
    "    totalCount = 0\n",
    "    for word in dict:\n",
    "        totalCount += dict[word]\n",
    "    for word in dict:\n",
    "        dict[word] = float(dict[word]) / (float(totalCount)+len(allwords))"
   ]
  },
  {
   "cell_type": "markdown",
   "id": "24f47c3b-6c2c-4401-b10a-ef6bbcf4b74d",
   "metadata": {},
   "source": [
    "## Train Model"
   ]
  },
  {
   "cell_type": "code",
   "execution_count": 17,
   "id": "0907566b-bab1-4ae0-81cb-5cc6fd455c33",
   "metadata": {
    "ExecuteTime": {
     "end_time": "2024-04-09T10:41:17.591933Z",
     "start_time": "2024-04-09T10:41:17.375917Z"
    }
   },
   "outputs": [],
   "source": [
    "predictionSet = []\n",
    "# Build Train Model\n",
    "for row_index, row in test.iterrows():\n",
    "    actual = row[\"stars\"]\n",
    "    content = row['text']\n",
    "    p_chance = ps_catagory.copy()\n",
    "    for w in content.lower().split():\n",
    "        for i in range(5):\n",
    "            if w in bigDict[i]:\n",
    "                p_chance[i] = float(p_chance[i] * (bigDict[i][w]))\n",
    "    pred = p_chance.index(max(p_chance))\n",
    "    if(pred == 0):\n",
    "        predictionSet.append(1.0)\n",
    "    elif(pred==1):\n",
    "        predictionSet.append(2.0)\n",
    "    elif(pred==2):\n",
    "        predictionSet.append(3.0)\n",
    "    elif(pred==3):\n",
    "        predictionSet.append(4.0)\n",
    "    elif(pred==4):\n",
    "        predictionSet.append(5.0)\n",
    "        "
   ]
  },
  {
   "cell_type": "markdown",
   "id": "918b937f-f265-4a41-bc5f-45d5860b5695",
   "metadata": {},
   "source": [
    "## Output Accuracy, Confusion Matrix"
   ]
  },
  {
   "cell_type": "code",
   "execution_count": 18,
   "id": "1ce78515-4af8-429b-ad99-b56402f97c4d",
   "metadata": {
    "ExecuteTime": {
     "end_time": "2024-04-09T10:41:18.862281Z",
     "start_time": "2024-04-09T10:41:17.593912Z"
    }
   },
   "outputs": [
    {
     "data": {
      "text/plain": "<Figure size 640x480 with 2 Axes>",
      "image/png": "[encoded data removed]"
     },
     "metadata": {},
     "output_type": "display_data"
    }
   ],
   "source": [
    "from matplotlib import pyplot as plt\n",
    "cm = confusion_matrix(test['stars'], predictionSet, labels=[1.0,2.0,3.0,4.0,5.0])\n",
    "disp = ConfusionMatrixDisplay(confusion_matrix=cm,display_labels=[1.0,2.0,3.0,4.0,5.0])\n",
    "disp.plot()\n",
    "plt.show()"
   ]
  },
  {
   "cell_type": "markdown",
   "source": [],
   "metadata": {
    "collapsed": false
   },
   "id": "a254170e1f401f49"
  },
  {
   "cell_type": "code",
   "execution_count": 19,
   "id": "e5057762-02cf-4413-bc41-aecf572f5f6e",
   "metadata": {
    "scrolled": true,
    "ExecuteTime": {
     "end_time": "2024-04-09T10:41:18.882008Z",
     "start_time": "2024-04-09T10:41:18.864269Z"
    }
   },
   "outputs": [
    {
     "name": "stdout",
     "output_type": "stream",
     "text": [
      "              precision    recall  f1-score   support\n",
      "\n",
      "         1.0       0.62      0.52      0.57       122\n",
      "         2.0       0.33      0.01      0.03        67\n",
      "         3.0       0.24      0.04      0.07       118\n",
      "         4.0       0.32      0.37      0.34       243\n",
      "         5.0       0.60      0.80      0.69       450\n",
      "\n",
      "    accuracy                           0.52      1000\n",
      "   macro avg       0.42      0.35      0.34      1000\n",
      "weighted avg       0.48      0.52      0.47      1000\n"
     ]
    }
   ],
   "source": [
    "print(classification_report(test['stars'], predictionSet))"
   ]
  },
  {
   "cell_type": "code",
   "execution_count": 20,
   "id": "d8f937879dd66469",
   "metadata": {
    "collapsed": false,
    "ExecuteTime": {
     "end_time": "2024-04-09T10:41:19.070582Z",
     "start_time": "2024-04-09T10:41:18.883999Z"
    }
   },
   "outputs": [],
   "source": [
    "from sklearn import linear_model\n",
    "from sklearn import decomposition\n",
    "from sklearn.feature_extraction.text import TfidfVectorizer, CountVectorizer\n",
    "from sklearn.compose import ColumnTransformer\n",
    "from sklearn.pipeline import Pipeline, make_pipeline\n",
    "from sklearn.linear_model import LinearRegression\n",
    "import numpy as np\n",
    "from sklearn.preprocessing import  OneHotEncoder"
   ]
  },
  {
   "cell_type": "markdown",
   "id": "9b597dcd-b939-4eba-8f44-531c39ae39da",
   "metadata": {},
   "source": [
    "## Setup Regressions"
   ]
  },
  {
   "cell_type": "code",
   "execution_count": 21,
   "id": "db57b832-1f50-4af4-a66f-3dbf0c80b15e",
   "metadata": {
    "ExecuteTime": {
     "end_time": "2024-04-09T10:41:19.517078Z",
     "start_time": "2024-04-09T10:41:19.071585Z"
    }
   },
   "outputs": [],
   "source": [
    "lengther = len(train['cool'])\n",
    "targetVectorCool = [0] * lengther\n",
    "targetVectorUseful = [0] * lengther\n",
    "targetVectorFunny = [0] * lengther\n",
    "for i in range(lengther):\n",
    "    targetVectorCool[i] = train.iloc[i]['cool']\n",
    "    targetVectorUseful[i] = train.iloc[i]['useful']\n",
    "    targetVectorFunny[i] = train.iloc[i]['funny']"
   ]
  },
  {
   "cell_type": "markdown",
   "id": "999512bd-97f2-4255-97d3-946ff524a5d0",
   "metadata": {},
   "source": [
    "## Preprocess input, Fit Data, Output"
   ]
  },
  {
   "cell_type": "code",
   "execution_count": 22,
   "id": "81127007-2c71-40d4-99f0-0b699395c32a",
   "metadata": {
    "ExecuteTime": {
     "end_time": "2024-04-09T10:41:20.274845Z",
     "start_time": "2024-04-09T10:41:19.519070Z"
    }
   },
   "outputs": [],
   "source": [
    "vectorizer = CountVectorizer(stop_words='english',  ngram_range=(1, 1), dtype='double')\n",
    "data = vectorizer.fit_transform(train['text'])\n",
    "pca = decomposition.TruncatedSVD(n_components=50)\n",
    "data = pca.fit_transform(data)"
   ]
  },
  {
   "cell_type": "code",
   "execution_count": 23,
   "id": "a1bbc91d-5720-467b-b219-20554362506f",
   "metadata": {
    "ExecuteTime": {
     "end_time": "2024-04-09T10:41:20.949047Z",
     "start_time": "2024-04-09T10:41:20.275820Z"
    }
   },
   "outputs": [
    {
     "data": {
      "text/plain": "1.4422567061990075"
     },
     "execution_count": 23,
     "metadata": {},
     "output_type": "execute_result"
    }
   ],
   "source": [
    "regressionCool = linear_model.BayesianRidge()\n",
    "regressionCool.fit(data,targetVectorCool)\n",
    "predictCool = regressionCool.predict(pca.fit_transform(vectorizer.fit_transform(test['text'])))\n",
    "mean_squared_error(test['cool'], predictCool)"
   ]
  },
  {
   "cell_type": "code",
   "execution_count": 24,
   "id": "915d947e-329f-4e94-a82a-b682cf47cf74",
   "metadata": {
    "ExecuteTime": {
     "end_time": "2024-04-09T10:41:21.313020Z",
     "start_time": "2024-04-09T10:41:20.950045Z"
    }
   },
   "outputs": [
    {
     "data": {
      "text/plain": "2.757101924739019"
     },
     "execution_count": 24,
     "metadata": {},
     "output_type": "execute_result"
    }
   ],
   "source": [
    "regressionUseful = linear_model.BayesianRidge()\n",
    "regressionUseful.fit(data,targetVectorUseful)\n",
    "predictUseful = regressionCool.predict(pca.fit_transform(vectorizer.fit_transform(test['text'])))\n",
    "mean_squared_error(test['useful'], predictUseful)"
   ]
  },
  {
   "cell_type": "code",
   "execution_count": 25,
   "id": "48d620ba-65c8-42c6-9cec-bced934fba87",
   "metadata": {
    "ExecuteTime": {
     "end_time": "2024-04-09T10:41:22.076730Z",
     "start_time": "2024-04-09T10:41:21.314016Z"
    }
   },
   "outputs": [
    {
     "data": {
      "text/plain": "1.1717743254659134"
     },
     "execution_count": 25,
     "metadata": {},
     "output_type": "execute_result"
    }
   ],
   "source": [
    "regressionFunny = linear_model.BayesianRidge()\n",
    "regressionFunny.fit(data,targetVectorFunny)\n",
    "predictFunny = regressionCool.predict(pca.fit_transform(vectorizer.fit_transform(test['text'])))\n",
    "mean_squared_error(test['funny'], predictFunny)"
   ]
  },
  {
   "cell_type": "markdown",
   "id": "11427f11-abcb-4791-abeb-8aa5356b0ac6",
   "metadata": {},
   "source": [
    "## Graph Linear Regression Graphs"
   ]
  },
  {
   "cell_type": "code",
   "execution_count": 26,
   "id": "5c2e70e6-8324-4bc3-8bda-8007a7875cef",
   "metadata": {
    "ExecuteTime": {
     "end_time": "2024-04-09T10:41:22.248783Z",
     "start_time": "2024-04-09T10:41:22.077725Z"
    }
   },
   "outputs": [
    {
     "data": {
      "text/plain": "<Figure size 500x500 with 1 Axes>",
      "image/png": "[encoded data removed]"
     },
     "metadata": {},
     "output_type": "display_data"
    }
   ],
   "source": [
    "plt.figure(figsize=(5,5))\n",
    "plt.scatter(test['cool'], predictCool, c='crimson')\n",
    "p1 = max(max(predictCool), max(test['cool']))\n",
    "p2 = min(min(predictCool), min(test['cool']))\n",
    "plt.plot([p1, p2], [p1, p2], 'b-')\n",
    "plt.xlabel('True Values', fontsize=15)\n",
    "plt.ylabel('Predictions', fontsize=15)\n",
    "plt.axis('equal')\n",
    "plt.title('Cool')\n",
    "plt.show()"
   ]
  },
  {
   "cell_type": "code",
   "execution_count": 27,
   "id": "f9392ddc-ff63-44b9-aaed-87d01398c6f1",
   "metadata": {
    "ExecuteTime": {
     "end_time": "2024-04-09T10:41:22.416134Z",
     "start_time": "2024-04-09T10:41:22.249779Z"
    }
   },
   "outputs": [
    {
     "data": {
      "text/plain": "<Figure size 500x500 with 1 Axes>",
      "image/png": "[encoded data removed]"
     },
     "metadata": {},
     "output_type": "display_data"
    }
   ],
   "source": [
    "plt.figure(figsize=(5,5))\n",
    "plt.scatter(test['useful'], predictUseful, c='crimson')\n",
    "p1 = max(max(predictUseful), max(test['useful']))\n",
    "p2 = min(min(predictUseful), min(test['useful']))\n",
    "plt.plot([p1, p2], [p1, p2], 'b-')\n",
    "plt.xlabel('True Values', fontsize=15)\n",
    "plt.ylabel('Predictions', fontsize=15)\n",
    "plt.axis('equal')\n",
    "plt.title('Useful')\n",
    "plt.show()"
   ]
  },
  {
   "cell_type": "code",
   "execution_count": 28,
   "id": "9d0463d9-410e-404d-9e06-be475e5ac474",
   "metadata": {
    "ExecuteTime": {
     "end_time": "2024-04-09T10:41:22.569859Z",
     "start_time": "2024-04-09T10:41:22.418284Z"
    }
   },
   "outputs": [
    {
     "data": {
      "text/plain": "<Figure size 500x500 with 1 Axes>",
      "image/png": "[encoded data removed]"
     },
     "metadata": {},
     "output_type": "display_data"
    }
   ],
   "source": [
    "plt.figure(figsize=(5,5))\n",
    "plt.scatter(test['funny'], predictFunny, c='crimson')\n",
    "p1 = max(max(predictFunny), max(test['funny']))\n",
    "p2 = min(min(predictFunny), min(test['funny']))\n",
    "plt.plot([p1, p2], [p1, p2], 'b-')\n",
    "plt.xlabel('True Values', fontsize=15)\n",
    "plt.ylabel('Predictions', fontsize=15)\n",
    "plt.axis('equal')\n",
    "plt.title('Funny')\n",
    "plt.show()"
   ]
  }
 ],
 "metadata": {
  "kernelspec": {
   "display_name": "Python 3 (ipykernel)",
   "language": "python",
   "name": "python3"
  },
  "language_info": {
   "codemirror_mode": {
    "name": "ipython",
    "version": 3
   },
   "file_extension": ".py",
   "mimetype": "text/x-python",
   "name": "python",
   "nbconvert_exporter": "python",
   "pygments_lexer": "ipython3",
   "version": "3.12.1"
  }
 },
 "nbformat": 4,
 "nbformat_minor": 5
}
