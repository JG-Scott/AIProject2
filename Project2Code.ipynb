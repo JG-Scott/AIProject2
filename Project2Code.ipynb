{
 "cells": [
  {
   "cell_type": "code",
   "execution_count": 568,
   "id": "initial_id",
   "metadata": {
    "ExecuteTime": {
     "end_time": "2024-04-06T21:19:32.827863Z",
     "start_time": "2024-04-06T21:19:32.823356900Z"
    }
   },
   "outputs": [],
   "source": [
    "import pandas as pd\n",
    "from sklearn.model_selection import train_test_split\n",
    "import json"
   ]
  },
  {
   "cell_type": "code",
   "execution_count": 569,
   "id": "32a14b2fda56c4c",
   "metadata": {
    "ExecuteTime": {
     "end_time": "2024-04-06T22:19:37.304264400Z",
     "start_time": "2024-04-06T22:19:37.298399100Z"
    },
    "collapsed": false,
    "jupyter": {
     "outputs_hidden": false
    }
   },
   "outputs": [],
   "source": [
    "# reads in the json file, only to the max entries and returns them as json_array, if max entries is set to 0 then it reads the full thing\n",
    "def read_partial_json_file(filename, max_entries=0, encoding='utf-8'):\n",
    "    json_array = []\n",
    "    with open(filename, 'r', encoding=encoding) as file:\n",
    "        if max_entries == 0:\n",
    "            for line in file:\n",
    "                json_array.append(json.loads(line))\n",
    "        else:\n",
    "            for _ in range(max_entries):\n",
    "                line = file.readline()\n",
    "                if not line:\n",
    "                    break\n",
    "                json_array.append(json.loads(line))\n",
    "    return json_array\n",
    "\n",
    "def add_missing_keys(json_array):\n",
    "    for obj in json_array:\n",
    "        for key in ['stars', 'useful', 'funny', 'cool', 'text']:\n",
    "            if key not in obj:\n",
    "                obj[key] = 0\n",
    "                print(\"Key {} not found in json\".format(key))\n",
    "    return json_array\n",
    "\n",
    "# removes specified keys from json array\n",
    "def remove_keys(json_array, keys_to_remove):\n",
    "    for obj in json_array:\n",
    "        for key in keys_to_remove:\n",
    "            obj.pop(key, None)\n",
    "    return json_array\n",
    "\n",
    "def ConvertJSONFileToDataFrame(filename, max_entries=1000, encoding='utf-8'):\n",
    "    #load in the json array\n",
    "    json_array = read_partial_json_file(filename, max_entries, encoding)\n",
    "    #add in the missing keys, will set to 0 for now but a heuristic for this will have to be made.\n",
    "    json_array = add_missing_keys(json_array)\n",
    "    df = pd.DataFrame(json_array)\n",
    "    ColumnsToRemove = ['business_id', 'user_id', 'date', 'review_id']\n",
    "    df = df.drop(columns=ColumnsToRemove)\n",
    "    return df"
   ]
  },
  {
   "cell_type": "code",
   "execution_count": 570,
   "id": "5ffe735463d493ca",
   "metadata": {
    "ExecuteTime": {
     "end_time": "2024-04-06T22:20:11.578716Z",
     "start_time": "2024-04-06T22:20:11.505513600Z"
    },
    "collapsed": false,
    "jupyter": {
     "outputs_hidden": false
    }
   },
   "outputs": [
    {
     "data": {
      "text/html": [
       "<div>\n",
       "<style scoped>\n",
       "    .dataframe tbody tr th:only-of-type {\n",
       "        vertical-align: middle;\n",
       "    }\n",
       "\n",
       "    .dataframe tbody tr th {\n",
       "        vertical-align: top;\n",
       "    }\n",
       "\n",
       "    .dataframe thead th {\n",
       "        text-align: right;\n",
       "    }\n",
       "</style>\n",
       "<table border=\"1\" class=\"dataframe\">\n",
       "  <thead>\n",
       "    <tr style=\"text-align: right;\">\n",
       "      <th></th>\n",
       "      <th>stars</th>\n",
       "      <th>useful</th>\n",
       "      <th>funny</th>\n",
       "      <th>cool</th>\n",
       "      <th>text</th>\n",
       "    </tr>\n",
       "  </thead>\n",
       "  <tbody>\n",
       "    <tr>\n",
       "      <th>0</th>\n",
       "      <td>3.0</td>\n",
       "      <td>0</td>\n",
       "      <td>0</td>\n",
       "      <td>0</td>\n",
       "      <td>If you decide to eat here, just be aware it is...</td>\n",
       "    </tr>\n",
       "    <tr>\n",
       "      <th>1</th>\n",
       "      <td>5.0</td>\n",
       "      <td>1</td>\n",
       "      <td>0</td>\n",
       "      <td>1</td>\n",
       "      <td>I've taken a lot of spin classes over the year...</td>\n",
       "    </tr>\n",
       "    <tr>\n",
       "      <th>2</th>\n",
       "      <td>3.0</td>\n",
       "      <td>0</td>\n",
       "      <td>0</td>\n",
       "      <td>0</td>\n",
       "      <td>Family diner. Had the buffet. Eclectic assortm...</td>\n",
       "    </tr>\n",
       "    <tr>\n",
       "      <th>3</th>\n",
       "      <td>5.0</td>\n",
       "      <td>1</td>\n",
       "      <td>0</td>\n",
       "      <td>1</td>\n",
       "      <td>Wow!  Yummy, different,  delicious.   Our favo...</td>\n",
       "    </tr>\n",
       "    <tr>\n",
       "      <th>4</th>\n",
       "      <td>4.0</td>\n",
       "      <td>1</td>\n",
       "      <td>0</td>\n",
       "      <td>1</td>\n",
       "      <td>Cute interior and owner (?) gave us tour of up...</td>\n",
       "    </tr>\n",
       "    <tr>\n",
       "      <th>5</th>\n",
       "      <td>1.0</td>\n",
       "      <td>1</td>\n",
       "      <td>2</td>\n",
       "      <td>1</td>\n",
       "      <td>I am a long term frequent customer of this est...</td>\n",
       "    </tr>\n",
       "    <tr>\n",
       "      <th>6</th>\n",
       "      <td>5.0</td>\n",
       "      <td>0</td>\n",
       "      <td>2</td>\n",
       "      <td>0</td>\n",
       "      <td>Loved this tour! I grabbed a groupon and the p...</td>\n",
       "    </tr>\n",
       "    <tr>\n",
       "      <th>7</th>\n",
       "      <td>5.0</td>\n",
       "      <td>2</td>\n",
       "      <td>0</td>\n",
       "      <td>0</td>\n",
       "      <td>Amazingly amazing wings and homemade bleu chee...</td>\n",
       "    </tr>\n",
       "    <tr>\n",
       "      <th>8</th>\n",
       "      <td>3.0</td>\n",
       "      <td>1</td>\n",
       "      <td>1</td>\n",
       "      <td>0</td>\n",
       "      <td>This easter instead of going to Lopez Lake we ...</td>\n",
       "    </tr>\n",
       "    <tr>\n",
       "      <th>9</th>\n",
       "      <td>3.0</td>\n",
       "      <td>0</td>\n",
       "      <td>0</td>\n",
       "      <td>0</td>\n",
       "      <td>Had a party of 6 here for hibachi. Our waitres...</td>\n",
       "    </tr>\n",
       "  </tbody>\n",
       "</table>\n",
       "</div>"
      ],
      "text/plain": [
       "   stars  useful  funny  cool  \\\n",
       "0    3.0       0      0     0   \n",
       "1    5.0       1      0     1   \n",
       "2    3.0       0      0     0   \n",
       "3    5.0       1      0     1   \n",
       "4    4.0       1      0     1   \n",
       "5    1.0       1      2     1   \n",
       "6    5.0       0      2     0   \n",
       "7    5.0       2      0     0   \n",
       "8    3.0       1      1     0   \n",
       "9    3.0       0      0     0   \n",
       "\n",
       "                                                text  \n",
       "0  If you decide to eat here, just be aware it is...  \n",
       "1  I've taken a lot of spin classes over the year...  \n",
       "2  Family diner. Had the buffet. Eclectic assortm...  \n",
       "3  Wow!  Yummy, different,  delicious.   Our favo...  \n",
       "4  Cute interior and owner (?) gave us tour of up...  \n",
       "5  I am a long term frequent customer of this est...  \n",
       "6  Loved this tour! I grabbed a groupon and the p...  \n",
       "7  Amazingly amazing wings and homemade bleu chee...  \n",
       "8  This easter instead of going to Lopez Lake we ...  \n",
       "9  Had a party of 6 here for hibachi. Our waitres...  "
      ]
     },
     "execution_count": 570,
     "metadata": {},
     "output_type": "execute_result"
    }
   ],
   "source": [
    "\n",
    "filename = 'yelp_academic_dataset_review.json'\n",
    "df = ConvertJSONFileToDataFrame(filename)\n",
    "df.head(10)"
   ]
  },
  {
   "cell_type": "code",
   "execution_count": 571,
   "id": "4df2077b4035cc5e",
   "metadata": {
    "ExecuteTime": {
     "end_time": "2024-04-06T21:44:17.711726800Z",
     "start_time": "2024-04-06T21:44:17.633694800Z"
    },
    "collapsed": false,
    "jupyter": {
     "outputs_hidden": false
    }
   },
   "outputs": [],
   "source": [
    "train, test = train_test_split(df, test_size=0.1, random_state=89, shuffle=True)"
   ]
  },
  {
   "cell_type": "code",
   "execution_count": 572,
   "id": "bb3a740e-72e3-4f3b-9a4f-f86fbe8ea656",
   "metadata": {},
   "outputs": [],
   "source": [
    "df = train.groupby(by='stars').agg('count').reset_index()"
   ]
  },
  {
   "cell_type": "code",
   "execution_count": 573,
   "id": "3301f19e-d8e6-4b02-bc74-a494481cac2b",
   "metadata": {},
   "outputs": [
    {
     "data": {
      "text/html": [
       "<div>\n",
       "<style scoped>\n",
       "    .dataframe tbody tr th:only-of-type {\n",
       "        vertical-align: middle;\n",
       "    }\n",
       "\n",
       "    .dataframe tbody tr th {\n",
       "        vertical-align: top;\n",
       "    }\n",
       "\n",
       "    .dataframe thead th {\n",
       "        text-align: right;\n",
       "    }\n",
       "</style>\n",
       "<table border=\"1\" class=\"dataframe\">\n",
       "  <thead>\n",
       "    <tr style=\"text-align: right;\">\n",
       "      <th></th>\n",
       "      <th>stars</th>\n",
       "      <th>useful</th>\n",
       "      <th>funny</th>\n",
       "      <th>cool</th>\n",
       "      <th>text</th>\n",
       "    </tr>\n",
       "  </thead>\n",
       "  <tbody>\n",
       "    <tr>\n",
       "      <th>0</th>\n",
       "      <td>1.0</td>\n",
       "      <td>99</td>\n",
       "      <td>99</td>\n",
       "      <td>99</td>\n",
       "      <td>99</td>\n",
       "    </tr>\n",
       "    <tr>\n",
       "      <th>1</th>\n",
       "      <td>2.0</td>\n",
       "      <td>70</td>\n",
       "      <td>70</td>\n",
       "      <td>70</td>\n",
       "      <td>70</td>\n",
       "    </tr>\n",
       "    <tr>\n",
       "      <th>2</th>\n",
       "      <td>3.0</td>\n",
       "      <td>116</td>\n",
       "      <td>116</td>\n",
       "      <td>116</td>\n",
       "      <td>116</td>\n",
       "    </tr>\n",
       "    <tr>\n",
       "      <th>3</th>\n",
       "      <td>4.0</td>\n",
       "      <td>210</td>\n",
       "      <td>210</td>\n",
       "      <td>210</td>\n",
       "      <td>210</td>\n",
       "    </tr>\n",
       "    <tr>\n",
       "      <th>4</th>\n",
       "      <td>5.0</td>\n",
       "      <td>405</td>\n",
       "      <td>405</td>\n",
       "      <td>405</td>\n",
       "      <td>405</td>\n",
       "    </tr>\n",
       "  </tbody>\n",
       "</table>\n",
       "</div>"
      ],
      "text/plain": [
       "   stars  useful  funny  cool  text\n",
       "0    1.0      99     99    99    99\n",
       "1    2.0      70     70    70    70\n",
       "2    3.0     116    116   116   116\n",
       "3    4.0     210    210   210   210\n",
       "4    5.0     405    405   405   405"
      ]
     },
     "execution_count": 573,
     "metadata": {},
     "output_type": "execute_result"
    }
   ],
   "source": [
    "df"
   ]
  },
  {
   "cell_type": "code",
   "execution_count": 574,
   "id": "430af0d3-f857-413e-b338-26d4fc1c659d",
   "metadata": {},
   "outputs": [],
   "source": [
    "from sklearn.metrics import confusion_matrix, accuracy_score, classification_report, f1_score, mean_squared_error, ConfusionMatrixDisplay"
   ]
  },
  {
   "cell_type": "markdown",
   "id": "d841ce83-1e0c-453e-bd2a-17a8efd8a0c3",
   "metadata": {},
   "source": [
    "## Count the totals fo each star rating"
   ]
  },
  {
   "cell_type": "code",
   "execution_count": 579,
   "id": "ee8eb814-85b8-43b1-bf2d-c52adf798e56",
   "metadata": {},
   "outputs": [],
   "source": [
    "oneCount = int((df.loc[df['stars']==1.0]['text'].astype(int)).iloc[0])\n",
    "twoCount = int((df.loc[df['stars']==2.0]['text'].astype(int)).iloc[0])\n",
    "threeCount = int((df.loc[df['stars']==3.0]['text'].astype(int)).iloc[0])\n",
    "fourCount = int((df.loc[df['stars']==4.0]['text'].astype(int)).iloc[0])\n",
    "fiveCount = int((df.loc[df['stars']==5.0]['text'].astype(int)).iloc[0])"
   ]
  },
  {
   "cell_type": "markdown",
   "id": "3b8b865d-dd29-4006-900d-b35bc0b38b78",
   "metadata": {},
   "source": [
    "## Get total counts and starting probabilities"
   ]
  },
  {
   "cell_type": "code",
   "execution_count": 580,
   "id": "8ca3128c-df80-4bb5-b146-29596471c2e9",
   "metadata": {},
   "outputs": [],
   "source": [
    "# Probability distribution\n",
    "totalCount = oneCount + twoCount + threeCount + fourCount + fiveCount\n",
    "p_catagory = {'1.0':oneCount/totalCount,'2.0':twoCount/totalCount,'3.0':threeCount/totalCount,'4.0':fourCount/totalCount,'5.0':fiveCount/totalCount}\n",
    "ps_catagory = [float(oneCount/totalCount),twoCount/totalCount,threeCount/totalCount,fourCount/totalCount,fiveCount/totalCount]"
   ]
  },
  {
   "cell_type": "code",
   "execution_count": 581,
   "id": "27efe539-5bbd-4b1b-a294-3cb86dd8986d",
   "metadata": {},
   "outputs": [],
   "source": [
    "from sklearn.pipeline import make_pipeline\n",
    "from sklearn.feature_extraction.text import TfidfVectorizer, CountVectorizer\n",
    "from sklearn.naive_bayes import MultinomialNB\n",
    "from sklearn.metrics import confusion_matrix, accuracy_score, classification_report, f1_score"
   ]
  },
  {
   "cell_type": "code",
   "execution_count": 582,
   "id": "158b4de8-c379-423f-97ec-740f36e59928",
   "metadata": {},
   "outputs": [],
   "source": [
    "bigDict = [{},{},{},{},{}]\n",
    "allwords = {}"
   ]
  },
  {
   "cell_type": "markdown",
   "id": "954680f0-ecbd-4189-bbe9-15c7e323240e",
   "metadata": {},
   "source": [
    "## Organize, Set Probability Dictionaries, Sum"
   ]
  },
  {
   "cell_type": "code",
   "execution_count": 583,
   "id": "6960cae4-f108-4a6c-b719-5a31bda86817",
   "metadata": {},
   "outputs": [],
   "source": [
    "for row_index, row in train.iterrows():\n",
    "    c = int(row[\"stars\"])-1\n",
    "    if(c == -1):\n",
    "        print(\"WARNING!\")\n",
    "    content = row['text']\n",
    "    for word in content.lower().split():\n",
    "        if word in bigDict[c]:\n",
    "            bigDict[c][word] += 1.0\n",
    "        else:\n",
    "            bigDict[c][word] = 1.0\n",
    "        if word not in allwords:\n",
    "            allwords[word] = 1.0\n",
    "        else:\n",
    "            allwords[word] += 1.0\n",
    "\n",
    "\n",
    "for word in allwords.keys():\n",
    "    for dict in bigDict:\n",
    "        if word in dict:\n",
    "            dict[word] += 1.0\n",
    "        else:\n",
    "            dict[word] = 1.0"
   ]
  },
  {
   "cell_type": "markdown",
   "id": "a37ac243-e7ae-4af9-b33a-76c516133c43",
   "metadata": {},
   "source": [
    "## Fine Tune, Remove 1 Sums and Abundant Classifiers"
   ]
  },
  {
   "cell_type": "code",
   "execution_count": 586,
   "id": "fb1ccfda-b7c0-4a93-9b7a-4df0a28371cc",
   "metadata": {},
   "outputs": [],
   "source": [
    "# Discard all 1 mentions\n",
    "allwordssorted = {k: v for k, v in sorted(allwords.items(), key=lambda item: item[1])}\n",
    "from math import floor\n",
    "threshold = list(allwordssorted.keys())[floor(len(allwordssorted)*0.98)]\n",
    "toDelete = []\n",
    "for word in allwordssorted.keys():\n",
    "    if allwordssorted[word] <= 1.0:\n",
    "        toDelete.append(word)\n",
    "    elif allwordssorted[word] > allwordssorted[threshold]:\n",
    "        toDelete.append(word)\n",
    "\n",
    "for word in toDelete:\n",
    "    del(allwordssorted[word])\n",
    "    for cat in bigDict:\n",
    "        del(cat[word])\n",
    "    del(allwords[word])"
   ]
  },
  {
   "cell_type": "markdown",
   "id": "7f1ec592-61fa-49db-99d1-b74585baa669",
   "metadata": {},
   "source": [
    "## Normalize"
   ]
  },
  {
   "cell_type": "code",
   "execution_count": 587,
   "id": "058d0f39-195e-4762-8376-4b9c915434cc",
   "metadata": {},
   "outputs": [],
   "source": [
    "# Normalize\n",
    "for dict in bigDict:\n",
    "    totalCount = 0\n",
    "    for word in dict:\n",
    "        totalCount += dict[word]\n",
    "    for word in dict:\n",
    "        dict[word] = float(dict[word]) / (float(totalCount)+len(allwords))"
   ]
  },
  {
   "cell_type": "markdown",
   "id": "24f47c3b-6c2c-4401-b10a-ef6bbcf4b74d",
   "metadata": {},
   "source": [
    "## Train Model"
   ]
  },
  {
   "cell_type": "code",
   "execution_count": 590,
   "id": "0907566b-bab1-4ae0-81cb-5cc6fd455c33",
   "metadata": {},
   "outputs": [],
   "source": [
    "predictionSet = []\n",
    "# Build Train Model\n",
    "for row_index, row in test.iterrows():\n",
    "    actual = row[\"stars\"]\n",
    "    content = row['text']\n",
    "    p_chance = ps_catagory.copy()\n",
    "    for w in content.lower().split():\n",
    "        for i in range(5):\n",
    "            if w in bigDict[i]:\n",
    "                p_chance[i] = float(p_chance[i] * (bigDict[i][w]))\n",
    "    pred = p_chance.index(max(p_chance))\n",
    "    if(pred == 0):\n",
    "        predictionSet.append(1.0)\n",
    "    elif(pred==1):\n",
    "        predictionSet.append(2.0)\n",
    "    elif(pred==2):\n",
    "        predictionSet.append(3.0)\n",
    "    elif(pred==3):\n",
    "        predictionSet.append(4.0)\n",
    "    elif(pred==4):\n",
    "        predictionSet.append(5.0)\n",
    "        "
   ]
  },
  {
   "cell_type": "markdown",
   "id": "918b937f-f265-4a41-bc5f-45d5860b5695",
   "metadata": {},
   "source": [
    "## Output Accuracy, Confusion Matrix"
   ]
  },
  {
   "cell_type": "code",
   "execution_count": 591,
   "id": "1ce78515-4af8-429b-ad99-b56402f97c4d",
   "metadata": {},
   "outputs": [
    {
     "data": {
      "image/png": "[encoded data removed]",
      "text/plain": [
       "<Figure size 640x480 with 2 Axes>"
      ]
     },
     "metadata": {},
     "output_type": "display_data"
    }
   ],
   "source": [
    "from matplotlib import pyplot as plt\n",
    "cm = confusion_matrix(test['stars'], predictionSet, labels=[1.0,2.0,3.0,4.0,5.0])\n",
    "disp = ConfusionMatrixDisplay(confusion_matrix=cm,display_labels=[1.0,2.0,3.0,4.0,5.0])\n",
    "disp.plot()\n",
    "plt.show()"
   ]
  },
  {
   "cell_type": "code",
   "execution_count": 592,
   "id": "e5057762-02cf-4413-bc41-aecf572f5f6e",
   "metadata": {
    "scrolled": true
   },
   "outputs": [
    {
     "name": "stdout",
     "output_type": "stream",
     "text": [
      "              precision    recall  f1-score   support\n",
      "\n",
      "         1.0       0.60      0.46      0.52        13\n",
      "         2.0       0.00      0.00      0.00         4\n",
      "         3.0       0.33      0.10      0.15        10\n",
      "         4.0       0.23      0.17      0.19        18\n",
      "         5.0       0.64      0.84      0.72        55\n",
      "\n",
      "    accuracy                           0.56       100\n",
      "   macro avg       0.36      0.31      0.32       100\n",
      "weighted avg       0.50      0.56      0.52       100\n",
      "\n"
     ]
    }
   ],
   "source": [
    "print(classification_report(test['stars'], predictionSet))"
   ]
  },
  {
   "cell_type": "code",
   "execution_count": 593,
   "id": "d8f937879dd66469",
   "metadata": {
    "collapsed": false,
    "jupyter": {
     "outputs_hidden": false
    }
   },
   "outputs": [],
   "source": [
    "from sklearn import linear_model\n",
    "from sklearn import decomposition\n",
    "from sklearn.feature_extraction.text import TfidfVectorizer, CountVectorizer\n",
    "from sklearn.compose import ColumnTransformer\n",
    "from sklearn.pipeline import Pipeline, make_pipeline\n",
    "from sklearn.linear_model import LinearRegression\n",
    "import numpy as np\n",
    "from sklearn.preprocessing import  OneHotEncoder"
   ]
  },
  {
   "cell_type": "code",
   "execution_count": null,
   "id": "88e2bf90-0552-47a6-8db7-f475bcb88e24",
   "metadata": {},
   "outputs": [],
   "source": [
    "## Setup Regressions"
   ]
  },
  {
   "cell_type": "code",
   "execution_count": 594,
   "id": "db57b832-1f50-4af4-a66f-3dbf0c80b15e",
   "metadata": {},
   "outputs": [],
   "source": [
    "lengther = len(train['cool'])\n",
    "targetVectorCool = [0] * lengther\n",
    "targetVectorUseful = [0] * lengther\n",
    "targetVectorFunny = [0] * lengther\n",
    "for i in range(lengther):\n",
    "    targetVectorCool[i] = train.iloc[i]['cool']\n",
    "    targetVectorUseful[i] = train.iloc[i]['useful']\n",
    "    targetVectorFunny[i] = train.iloc[i]['funny']"
   ]
  },
  {
   "cell_type": "code",
   "execution_count": 595,
   "id": "81127007-2c71-40d4-99f0-0b699395c32a",
   "metadata": {},
   "outputs": [],
   "source": [
    "vectorizer = CountVectorizer(stop_words='english',  ngram_range=(1, 1), dtype='double')\n",
    "data = vectorizer.fit_transform(train['text'])\n",
    "pca = decomposition.TruncatedSVD(n_components=50)\n",
    "data = pca.fit_transform(data)\n"
   ]
  },
  {
   "cell_type": "code",
   "execution_count": 596,
   "id": "a1bbc91d-5720-467b-b219-20554362506f",
   "metadata": {},
   "outputs": [],
   "source": [
    "regressionCool = linear_model.BayesianRidge()\n",
    "regressionCool.fit(data,targetVectorCool)\n",
    "predictCool = regressionCool.predict(pca.fit_transform(vectorizer.fit_transform(test['text'])))\n",
    "mean_squared_error(test['cool'], predictCool)"
   ]
  },
  {
   "cell_type": "code",
   "execution_count": 597,
   "id": "14ea70c8-661c-49b7-a68b-b1873a0b7f5f",
   "metadata": {},
   "outputs": [],
   "source": []
  },
  {
   "cell_type": "code",
   "execution_count": 598,
   "id": "cbaf6d76-2ca2-4763-b4fc-cbdeda44d8fd",
   "metadata": {},
   "outputs": [],
   "source": []
  },
  {
   "cell_type": "code",
   "execution_count": 599,
   "id": "3747bd58-0e81-409e-bc57-d3936366e391",
   "metadata": {},
   "outputs": [],
   "source": []
  },
  {
   "cell_type": "code",
   "execution_count": 600,
   "id": "8732b150-ab98-4cda-81af-5dc110652633",
   "metadata": {},
   "outputs": [
    {
     "data": {
      "text/plain": [
       "0.7001588289921016"
      ]
     },
     "execution_count": 600,
     "metadata": {},
     "output_type": "execute_result"
    }
   ],
   "source": []
  },
  {
   "cell_type": "code",
   "execution_count": 601,
   "id": "915d947e-329f-4e94-a82a-b682cf47cf74",
   "metadata": {},
   "outputs": [
    {
     "data": {
      "text/plain": [
       "3.7279826841030315"
      ]
     },
     "execution_count": 601,
     "metadata": {},
     "output_type": "execute_result"
    }
   ],
   "source": [
    "regressionUseful = linear_model.BayesianRidge()\n",
    "regressionUseful.fit(data,targetVectorUseful)\n",
    "predictUseful = regressionCool.predict(pca.fit_transform(vectorizer.fit_transform(test['text'])))\n",
    "mean_squared_error(test['useful'], predictUseful)"
   ]
  },
  {
   "cell_type": "code",
   "execution_count": 602,
   "id": "48d620ba-65c8-42c6-9cec-bced934fba87",
   "metadata": {},
   "outputs": [
    {
     "data": {
      "text/plain": [
       "1.1576831034808437"
      ]
     },
     "execution_count": 602,
     "metadata": {},
     "output_type": "execute_result"
    }
   ],
   "source": [
    "regressionFunny = linear_model.BayesianRidge()\n",
    "regressionFunny.fit(data,targetVectorFunny)\n",
    "predictFunny = regressionCool.predict(pca.fit_transform(vectorizer.fit_transform(test['text'])))\n",
    "mean_squared_error(test['funny'], predictFunny)"
   ]
  },
  {
   "cell_type": "code",
   "execution_count": 603,
   "id": "5c2e70e6-8324-4bc3-8bda-8007a7875cef",
   "metadata": {},
   "outputs": [
    {
     "data": {
      "image/png": "[encoded data removed]",
      "text/plain": [
       "<Figure size 500x500 with 1 Axes>"
      ]
     },
     "metadata": {},
     "output_type": "display_data"
    }
   ],
   "source": [
    "plt.figure(figsize=(5,5))\n",
    "plt.scatter(test['cool'], predictCool, c='crimson')\n",
    "p1 = max(max(predictCool), max(test['cool']))\n",
    "p2 = min(min(predictCool), min(test['cool']))\n",
    "plt.plot([p1, p2], [p1, p2], 'b-')\n",
    "plt.xlabel('True Values', fontsize=15)\n",
    "plt.ylabel('Predictions', fontsize=15)\n",
    "plt.axis('equal')\n",
    "plt.title('Cool')\n",
    "plt.show()"
   ]
  },
  {
   "cell_type": "code",
   "execution_count": 604,
   "id": "f9392ddc-ff63-44b9-aaed-87d01398c6f1",
   "metadata": {},
   "outputs": [
    {
     "data": {
      "image/png": "[encoded data removed]",
      "text/plain": [
       "<Figure size 500x500 with 1 Axes>"
      ]
     },
     "metadata": {},
     "output_type": "display_data"
    }
   ],
   "source": [
    "plt.figure(figsize=(5,5))\n",
    "plt.scatter(test['useful'], predictUseful, c='crimson')\n",
    "p1 = max(max(predictUseful), max(test['useful']))\n",
    "p2 = min(min(predictUseful), min(test['useful']))\n",
    "plt.plot([p1, p2], [p1, p2], 'b-')\n",
    "plt.xlabel('True Values', fontsize=15)\n",
    "plt.ylabel('Predictions', fontsize=15)\n",
    "plt.axis('equal')\n",
    "plt.title('Useful')\n",
    "plt.show()"
   ]
  },
  {
   "cell_type": "code",
   "execution_count": 605,
   "id": "9d0463d9-410e-404d-9e06-be475e5ac474",
   "metadata": {},
   "outputs": [
    {
     "data": {
      "image/png": "[encoded data removed]",
      "text/plain": [
       "<Figure size 500x500 with 1 Axes>"
      ]
     },
     "metadata": {},
     "output_type": "display_data"
    }
   ],
   "source": [
    "plt.figure(figsize=(5,5))\n",
    "plt.scatter(test['funny'], predictFunny, c='crimson')\n",
    "p1 = max(max(predictFunny), max(test['funny']))\n",
    "p2 = min(min(predictFunny), min(test['funny']))\n",
    "plt.plot([p1, p2], [p1, p2], 'b-')\n",
    "plt.xlabel('True Values', fontsize=15)\n",
    "plt.ylabel('Predictions', fontsize=15)\n",
    "plt.axis('equal')\n",
    "plt.title('Funny')\n",
    "plt.show()"
   ]
  }
 ],
 "metadata": {
  "kernelspec": {
   "display_name": "Python 3 (ipykernel)",
   "language": "python",
   "name": "python3"
  },
  "language_info": {
   "codemirror_mode": {
    "name": "ipython",
    "version": 3
   },
   "file_extension": ".py",
   "mimetype": "text/x-python",
   "name": "python",
   "nbconvert_exporter": "python",
   "pygments_lexer": "ipython3",
   "version": "3.12.1"
  }
 },
 "nbformat": 4,
 "nbformat_minor": 5
}
