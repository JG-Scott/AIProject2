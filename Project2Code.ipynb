{
 "cells": [
  {
   "cell_type": "code",
   "execution_count": 98,
   "id": "initial_id",
   "metadata": {
    "ExecuteTime": {
     "end_time": "2024-04-09T08:00:42.769149100Z",
     "start_time": "2024-04-09T08:00:42.711616700Z"
    },
    "collapsed": true,
    "jupyter": {
     "outputs_hidden": true
    }
   },
   "outputs": [],
   "source": [
    "import pandas as pd\n",
    "from sklearn.model_selection import train_test_split\n",
    "import json\n",
    "import re\n",
    "from nltk.corpus import stopwords\n",
    "from nltk.tokenize import word_tokenize\n",
    "from sklearn.metrics import mean_squared_error\n",
    "from sklearn.metrics import classification_report\n",
    "from sklearn.feature_extraction.text import TfidfVectorizer\n",
    "from sklearn.svm import SVC\n",
    "from sklearn.pipeline import Pipeline\n",
    "from sklearn.svm import SVR\n",
    "from sklearn.model_selection import GridSearchCV\n",
    "\n",
    "from sklearn.neural_network import MLPRegressor\n",
    "from sklearn.feature_extraction.text import CountVectorizer"
   ]
  },
  {
   "cell_type": "markdown",
   "id": "a0a386d1eff1f84",
   "metadata": {
    "collapsed": false,
    "jupyter": {
     "outputs_hidden": false
    }
   },
   "source": [
    "<h1> Data Processing Functions </h1>"
   ]
  },
  {
   "cell_type": "code",
   "execution_count": 3,
   "id": "32a14b2fda56c4c",
   "metadata": {
    "ExecuteTime": {
     "end_time": "2024-04-09T01:17:44.696500200Z",
     "start_time": "2024-04-09T01:17:44.682992500Z"
    },
    "collapsed": false,
    "jupyter": {
     "outputs_hidden": false
    }
   },
   "outputs": [],
   "source": [
    "# functions for processing data\n",
    "\n",
    "# function which removes all the stop text from the 'text' column\n",
    "def preprocess_text(text):\n",
    "    # Convert text to lowercase\n",
    "    text = text.lower()\n",
    "    # Remove punctuation\n",
    "    text = re.sub(r'[^\\w\\s]', '', text)\n",
    "    # Remove stop words\n",
    "    stop_words = set(stopwords.words('english'))\n",
    "    words = word_tokenize(text)\n",
    "    filtered_words = [word for word in words if word not in stop_words]\n",
    "    text = ' '.join(filtered_words)\n",
    "    return text\n",
    "\n",
    "# reads in the json file, only to the max entries and returns them as json_array, if max entries is set to 0 then it reads the full thing\n",
    "def read_partial_json_file(filename, max_entries=0, encoding='utf-8'):\n",
    "    json_array = []\n",
    "    with open(filename, 'r', encoding=encoding) as file:\n",
    "        if max_entries == 0:\n",
    "            for line in file:\n",
    "                json_array.append(json.loads(line))\n",
    "        else:\n",
    "            for _ in range(max_entries):\n",
    "                line = file.readline()\n",
    "                if not line:\n",
    "                    break\n",
    "                json_array.append(json.loads(line))\n",
    "    return json_array\n",
    "\n",
    "def add_missing_keys(json_array):\n",
    "    for obj in json_array:\n",
    "        for key in ['stars', 'useful', 'funny', 'cool', 'text']:\n",
    "            if key not in obj:\n",
    "                obj[key] = 0\n",
    "                print(\"Key {} not found in json\".format(key))\n",
    "    return json_array\n",
    "\n",
    "# removes specified keys from json array\n",
    "def remove_keys(json_array, keys_to_remove):\n",
    "    for obj in json_array:\n",
    "        for key in keys_to_remove:\n",
    "            obj.pop(key, None)\n",
    "    return json_array\n",
    "\n",
    "def ConvertJSONFileToDataFrame(filename, max_entries=1000, encoding='utf-8'):\n",
    "    #load in the json array\n",
    "    json_array = read_partial_json_file(filename, max_entries, encoding)\n",
    "    #add in the missing keys, will set to 0 for now but a heuristic for this will have to be made.\n",
    "    json_array = add_missing_keys(json_array)\n",
    "    df = pd.DataFrame(json_array)\n",
    "    ColumnsToRemove = ['business_id', 'user_id', 'date', 'review_id']\n",
    "    df = df.drop(columns=ColumnsToRemove)\n",
    "    return df\n",
    "\n",
    "def preprocess_dataframe(df, text_column):\n",
    "    # Apply preprocess_text function to the specified text column in the DataFrame\n",
    "    df[text_column] = df[text_column].apply(preprocess_text)\n",
    "    return df\n"
   ]
  },
  {
   "cell_type": "markdown",
   "id": "d5acec8df968d75a",
   "metadata": {
    "collapsed": false,
    "jupyter": {
     "outputs_hidden": false
    }
   },
   "source": [
    "<h2> Experiment Code </h2>"
   ]
  },
  {
   "cell_type": "code",
   "execution_count": null,
   "id": "1d889b2b0fa83dad",
   "metadata": {
    "collapsed": false,
    "jupyter": {
     "outputs_hidden": false
    }
   },
   "outputs": [],
   "source": [
    "# code to set all values above 10 to 10\n",
    "# for column in ['funny', 'cool', 'useful']:\n",
    "#     # Apply the condition and set values greater than 20 to 20\n",
    "#     df[column] = df[column].apply(lambda x: min(x, 10))\n",
    "\n",
    "# code to remove top k words from list.\n",
    "# Iterate through each 'text' feature\n",
    "# for column in df.filter(like='text').columns:\n",
    "#     # Fit and transform the 'text' feature using TfidfVectorizer\n",
    "#     tfidf_matrix = tfidf_vectorizer.fit_transform(df[column])\n",
    "#     \n",
    "#     # Get the feature names (words)\n",
    "#     feature_names = tfidf_vectorizer.get_feature_names_out()\n",
    "#     \n",
    "#     # Get the sum of tfidf scores for each word\n",
    "#     word_scores = np.asarray(tfidf_matrix.sum(axis=0)).ravel()\n",
    "#     \n",
    "#     # Get the indices of the top 10 most important words\n",
    "#     top_indices = np.argsort(word_scores)[-50:]\n",
    "#     \n",
    "#     # Get the top 10 most important words\n",
    "#     top_words = [feature_names[idx] for idx in top_indices]\n",
    "#     # Remove the top 10 most important words from the 'text' feature\n",
    "#     df[column] = df[column].apply(lambda x: ' '.join(word for word in x.split() if word not in top_words))"
   ]
  },
  {
   "cell_type": "markdown",
   "id": "c1406c0c359c8d0c",
   "metadata": {
    "collapsed": false,
    "jupyter": {
     "outputs_hidden": false
    }
   },
   "source": [
    "This is what makes the test set i use::::"
   ]
  },
  {
   "cell_type": "code",
   "execution_count": 112,
   "id": "725a4492c16ce23a",
   "metadata": {
    "ExecuteTime": {
     "end_time": "2024-04-09T08:21:36.691680200Z",
     "start_time": "2024-04-09T08:21:35.913583900Z"
    },
    "collapsed": false,
    "jupyter": {
     "outputs_hidden": false
    }
   },
   "outputs": [],
   "source": [
    "filename = 'yelp_academic_dataset_review.json'\n",
    "df = ConvertJSONFileToDataFrame(filename, 1000)\n",
    "df = preprocess_dataframe(df, 'text')\n",
    "\n",
    "target_columns = ['stars', 'cool', 'funny', 'useful']\n",
    "\n",
    "X = df['text']\n",
    "y = df[target_columns]\n",
    "X_train, X_test, y_train, y_test = train_test_split(X, y, test_size=.2, random_state=42)\n"
   ]
  },
  {
   "cell_type": "markdown",
   "id": "6adc9f8b69a1c29d",
   "metadata": {
    "collapsed": false,
    "jupyter": {
     "outputs_hidden": false
    }
   },
   "source": [
    "Ignore this next part MLP stuff, still working on it"
   ]
  },
  {
   "cell_type": "code",
   "execution_count": 97,
   "id": "44b1f3a8b3e648f9",
   "metadata": {
    "ExecuteTime": {
     "end_time": "2024-04-09T07:21:52.853969600Z",
     "start_time": "2024-04-09T07:20:37.552561900Z"
    },
    "collapsed": false,
    "jupyter": {
     "outputs_hidden": false
    }
   },
   "outputs": [
    {
     "name": "stdout",
     "output_type": "stream",
     "text": [
      "Train MSE: 0.026430687859361143\n",
      "Test MSE: 2.4439752231571203\n"
     ]
    }
   ],
   "source": [
    "param_grid = {\n",
    "    'hidden_layer_sizes': [(50,), (100,), (50, 50), (100, 50)],\n",
    "    'activation': ['relu', 'tanh'],\n",
    "    'solver': ['adam', 'sgd'],\n",
    "    'alpha': [0.0001, 0.001, 0.01],\n",
    "    'learning_rate': ['constant', 'adaptive'],\n",
    "    'learning_rate_init': [0.001, 0.01, 0.1]\n",
    "}\n",
    "\n",
    "\n",
    "\n",
    "mlp_regressor = MLPRegressor(activation='tanh', alpha=0.0001, hidden_layer_sizes=(100,),\n",
    "                              learning_rate='constant', learning_rate_init=0.1, solver='adam',\n",
    "                              max_iter=200, random_state=42)\n",
    "\n",
    "\n",
    "tfid = TfidfVectorizer()\n",
    "X_train_regression = tfid.fit_transform(X_train)\n",
    "X_test_regression =  tfid.transform(X_test)\n",
    "\n",
    "column_to_test = 'useful'\n",
    "\n",
    "# # Train the model\n",
    "mlp_regressor.fit(X_train_regression, y_train[column_to_test])\n",
    "\n",
    "# Predictions\n",
    "y_pred_train = mlp_regressor.predict(X_train_regression)\n",
    "y_pred_test = mlp_regressor.predict(X_test_regression)\n",
    "\n",
    "# Evaluate the model\n",
    "train_mse = mean_squared_error(y_train[column_to_test], y_pred_train)\n",
    "test_mse = mean_squared_error(y_test[column_to_test], y_pred_test)\n",
    "\n",
    "print(\"Train MSE:\", train_mse)\n",
    "print(\"Test MSE:\", test_mse)"
   ]
  },
  {
   "cell_type": "code",
   "execution_count": null,
   "id": "75db0ae7843ba352",
   "metadata": {
    "collapsed": false,
    "jupyter": {
     "outputs_hidden": false
    }
   },
   "outputs": [],
   "source": []
  },
  {
   "cell_type": "markdown",
   "id": "b921abb5ae1a3bb9",
   "metadata": {
    "collapsed": false,
    "jupyter": {
     "outputs_hidden": false
    }
   },
   "source": [
    "Below here is also mlp experiment stuff, ignore this too"
   ]
  },
  {
   "cell_type": "code",
   "execution_count": 113,
   "id": "2d0ff31883a42eb8",
   "metadata": {
    "ExecuteTime": {
     "end_time": "2024-04-09T08:22:59.902709800Z",
     "start_time": "2024-04-09T08:21:38.347600Z"
    },
    "collapsed": false,
    "jupyter": {
     "outputs_hidden": false
    }
   },
   "outputs": [
    {
     "name": "stdout",
     "output_type": "stream",
     "text": [
      "Test MSE: 7.426126638003001\n"
     ]
    }
   ],
   "source": [
    "\n",
    "# Specify ngram_range to extract bigrams\n",
    "vectorizer = CountVectorizer(ngram_range=(2, 2))  # Specify ngram_range to extract bigrams\n",
    "X_bigramTest = vectorizer.fit_transform(df['text'])\n",
    "\n",
    "# Step 3: Split the data into train and test sets\n",
    "X_train_bigramTest, X_test_bigramTest, y_train_bigramTest, y_test_bigramTest = train_test_split(X_bigramTest, y, test_size=0.2, random_state=42)\n",
    "\n",
    "\n",
    "mlp_regressor_bigramTest = MLPRegressor(activation='tanh', alpha=0.0001, hidden_layer_sizes=(100,),\n",
    "                              learning_rate='constant', learning_rate_init=0.1, solver='adam',\n",
    "                              max_iter=200, random_state=42)\n",
    "\n",
    "\n",
    "column_to_test = 'useful'\n",
    "\n",
    "# # Train the model\n",
    "mlp_regressor_bigramTest.fit(X_train_bigramTest, y_train_bigramTest[column_to_test])\n",
    "\n",
    "# Predictions\n",
    "\n",
    "y_pred_test = mlp_regressor_bigramTest.predict(X_test_bigramTest)\n",
    "\n",
    "# Evaluate the model\n",
    "test_mse = mean_squared_error(y_test_bigramTest[column_to_test], y_pred_test)\n",
    "\n",
    "print(\"Test MSE:\", test_mse)"
   ]
  },
  {
   "cell_type": "markdown",
   "id": "665a610c536523b0",
   "metadata": {
    "collapsed": false,
    "jupyter": {
     "outputs_hidden": false
    }
   },
   "source": [
    "<h2>Parameter Testing Code: SVM</h2>"
   ]
  },
  {
   "cell_type": "code",
   "execution_count": null,
   "id": "ebafad7a11cf450b",
   "metadata": {
    "ExecuteTime": {
     "start_time": "2024-04-08T23:11:22.414622900Z"
    },
    "collapsed": false,
    "is_executing": true,
    "jupyter": {
     "outputs_hidden": false
    }
   },
   "outputs": [],
   "source": [
    "# # Standardize features (important for SVM)\n",
    "# \n",
    "# # Create SVM classifier\n",
    "# pipeline = Pipeline([\n",
    "#     ('tfidf', TfidfVectorizer()),\n",
    "#     ('svm', SVC())\n",
    "# ])\n",
    "# # Define the grid of parameters to search\n",
    "# param_grid = {\n",
    "#     'tfidf__max_features': [1000, 2000, 3000],\n",
    "#     'tfidf__ngram_range': [(1, 1), (1, 2)],\n",
    "#     'svm__C': [0.1, 1, 10, 100],\n",
    "#     'svm__kernel': ['linear', 'rbf', 'poly', 'sigmoid'],\n",
    "#     'svm__gamma': ['scale', 'auto', 0.1, 1, 10],\n",
    "# }\n",
    "# \n",
    "# # Create GridSearchCV object\n",
    "# grid_search = GridSearchCV(estimator=pipeline, param_grid=param_grid, cv=5, scoring='accuracy')\n",
    "# \n",
    "# # Fit the grid search to the data\n",
    "# grid_search.fit(X_train, y_train['stars'])\n",
    "# \n",
    "# # Get the best parameters and best score\n",
    "# best_params = grid_search.best_params_\n",
    "# best_score = grid_search.best_score_\n",
    "# \n",
    "# # Print the best parameters and best score\n",
    "# print(\"Best Parameters:\", best_params)\n",
    "# print(\"Best Score (Accuracy):\", best_score)"
   ]
  },
  {
   "cell_type": "markdown",
   "id": "5da7c628d07f5cbd",
   "metadata": {
    "collapsed": false,
    "jupyter": {
     "outputs_hidden": false
    }
   },
   "source": [
    "<h2> SVM Model Creation </h2>"
   ]
  },
  {
   "cell_type": "code",
   "execution_count": 71,
   "id": "5b7caf1a078827b8",
   "metadata": {
    "ExecuteTime": {
     "end_time": "2024-04-09T05:00:48.074448100Z",
     "start_time": "2024-04-09T04:59:39.737328100Z"
    },
    "collapsed": false,
    "jupyter": {
     "outputs_hidden": false
    }
   },
   "outputs": [
    {
     "data": {
      "text/html": [
       "<style>#sk-container-id-7 {\n",
       "  /* Definition of color scheme common for light and dark mode */\n",
       "  --sklearn-color-text: black;\n",
       "  --sklearn-color-line: gray;\n",
       "  /* Definition of color scheme for unfitted estimators */\n",
       "  --sklearn-color-unfitted-level-0: #fff5e6;\n",
       "  --sklearn-color-unfitted-level-1: #f6e4d2;\n",
       "  --sklearn-color-unfitted-level-2: #ffe0b3;\n",
       "  --sklearn-color-unfitted-level-3: chocolate;\n",
       "  /* Definition of color scheme for fitted estimators */\n",
       "  --sklearn-color-fitted-level-0: #f0f8ff;\n",
       "  --sklearn-color-fitted-level-1: #d4ebff;\n",
       "  --sklearn-color-fitted-level-2: #b3dbfd;\n",
       "  --sklearn-color-fitted-level-3: cornflowerblue;\n",
       "\n",
       "  /* Specific color for light theme */\n",
       "  --sklearn-color-text-on-default-background: var(--sg-text-color, var(--theme-code-foreground, var(--jp-content-font-color1, black)));\n",
       "  --sklearn-color-background: var(--sg-background-color, var(--theme-background, var(--jp-layout-color0, white)));\n",
       "  --sklearn-color-border-box: var(--sg-text-color, var(--theme-code-foreground, var(--jp-content-font-color1, black)));\n",
       "  --sklearn-color-icon: #696969;\n",
       "\n",
       "  @media (prefers-color-scheme: dark) {\n",
       "    /* Redefinition of color scheme for dark theme */\n",
       "    --sklearn-color-text-on-default-background: var(--sg-text-color, var(--theme-code-foreground, var(--jp-content-font-color1, white)));\n",
       "    --sklearn-color-background: var(--sg-background-color, var(--theme-background, var(--jp-layout-color0, #111)));\n",
       "    --sklearn-color-border-box: var(--sg-text-color, var(--theme-code-foreground, var(--jp-content-font-color1, white)));\n",
       "    --sklearn-color-icon: #878787;\n",
       "  }\n",
       "}\n",
       "\n",
       "#sk-container-id-7 {\n",
       "  color: var(--sklearn-color-text);\n",
       "}\n",
       "\n",
       "#sk-container-id-7 pre {\n",
       "  padding: 0;\n",
       "}\n",
       "\n",
       "#sk-container-id-7 input.sk-hidden--visually {\n",
       "  border: 0;\n",
       "  clip: rect(1px 1px 1px 1px);\n",
       "  clip: rect(1px, 1px, 1px, 1px);\n",
       "  height: 1px;\n",
       "  margin: -1px;\n",
       "  overflow: hidden;\n",
       "  padding: 0;\n",
       "  position: absolute;\n",
       "  width: 1px;\n",
       "}\n",
       "\n",
       "#sk-container-id-7 div.sk-dashed-wrapped {\n",
       "  border: 1px dashed var(--sklearn-color-line);\n",
       "  margin: 0 0.4em 0.5em 0.4em;\n",
       "  box-sizing: border-box;\n",
       "  padding-bottom: 0.4em;\n",
       "  background-color: var(--sklearn-color-background);\n",
       "}\n",
       "\n",
       "#sk-container-id-7 div.sk-container {\n",
       "  /* jupyter's `normalize.less` sets `[hidden] { display: none; }`\n",
       "     but bootstrap.min.css set `[hidden] { display: none !important; }`\n",
       "     so we also need the `!important` here to be able to override the\n",
       "     default hidden behavior on the sphinx rendered scikit-learn.org.\n",
       "     See: https://github.com/scikit-learn/scikit-learn/issues/21755 */\n",
       "  display: inline-block !important;\n",
       "  position: relative;\n",
       "}\n",
       "\n",
       "#sk-container-id-7 div.sk-text-repr-fallback {\n",
       "  display: none;\n",
       "}\n",
       "\n",
       "div.sk-parallel-item,\n",
       "div.sk-serial,\n",
       "div.sk-item {\n",
       "  /* draw centered vertical line to link estimators */\n",
       "  background-image: linear-gradient(var(--sklearn-color-text-on-default-background), var(--sklearn-color-text-on-default-background));\n",
       "  background-size: 2px 100%;\n",
       "  background-repeat: no-repeat;\n",
       "  background-position: center center;\n",
       "}\n",
       "\n",
       "/* Parallel-specific style estimator block */\n",
       "\n",
       "#sk-container-id-7 div.sk-parallel-item::after {\n",
       "  content: \"\";\n",
       "  width: 100%;\n",
       "  border-bottom: 2px solid var(--sklearn-color-text-on-default-background);\n",
       "  flex-grow: 1;\n",
       "}\n",
       "\n",
       "#sk-container-id-7 div.sk-parallel {\n",
       "  display: flex;\n",
       "  align-items: stretch;\n",
       "  justify-content: center;\n",
       "  background-color: var(--sklearn-color-background);\n",
       "  position: relative;\n",
       "}\n",
       "\n",
       "#sk-container-id-7 div.sk-parallel-item {\n",
       "  display: flex;\n",
       "  flex-direction: column;\n",
       "}\n",
       "\n",
       "#sk-container-id-7 div.sk-parallel-item:first-child::after {\n",
       "  align-self: flex-end;\n",
       "  width: 50%;\n",
       "}\n",
       "\n",
       "#sk-container-id-7 div.sk-parallel-item:last-child::after {\n",
       "  align-self: flex-start;\n",
       "  width: 50%;\n",
       "}\n",
       "\n",
       "#sk-container-id-7 div.sk-parallel-item:only-child::after {\n",
       "  width: 0;\n",
       "}\n",
       "\n",
       "/* Serial-specific style estimator block */\n",
       "\n",
       "#sk-container-id-7 div.sk-serial {\n",
       "  display: flex;\n",
       "  flex-direction: column;\n",
       "  align-items: center;\n",
       "  background-color: var(--sklearn-color-background);\n",
       "  padding-right: 1em;\n",
       "  padding-left: 1em;\n",
       "}\n",
       "\n",
       "\n",
       "/* Toggleable style: style used for estimator/Pipeline/ColumnTransformer box that is\n",
       "clickable and can be expanded/collapsed.\n",
       "- Pipeline and ColumnTransformer use this feature and define the default style\n",
       "- Estimators will overwrite some part of the style using the `sk-estimator` class\n",
       "*/\n",
       "\n",
       "/* Pipeline and ColumnTransformer style (default) */\n",
       "\n",
       "#sk-container-id-7 div.sk-toggleable {\n",
       "  /* Default theme specific background. It is overwritten whether we have a\n",
       "  specific estimator or a Pipeline/ColumnTransformer */\n",
       "  background-color: var(--sklearn-color-background);\n",
       "}\n",
       "\n",
       "/* Toggleable label */\n",
       "#sk-container-id-7 label.sk-toggleable__label {\n",
       "  cursor: pointer;\n",
       "  display: block;\n",
       "  width: 100%;\n",
       "  margin-bottom: 0;\n",
       "  padding: 0.5em;\n",
       "  box-sizing: border-box;\n",
       "  text-align: center;\n",
       "}\n",
       "\n",
       "#sk-container-id-7 label.sk-toggleable__label-arrow:before {\n",
       "  /* Arrow on the left of the label */\n",
       "  content: \"▸\";\n",
       "  float: left;\n",
       "  margin-right: 0.25em;\n",
       "  color: var(--sklearn-color-icon);\n",
       "}\n",
       "\n",
       "#sk-container-id-7 label.sk-toggleable__label-arrow:hover:before {\n",
       "  color: var(--sklearn-color-text);\n",
       "}\n",
       "\n",
       "/* Toggleable content - dropdown */\n",
       "\n",
       "#sk-container-id-7 div.sk-toggleable__content {\n",
       "  max-height: 0;\n",
       "  max-width: 0;\n",
       "  overflow: hidden;\n",
       "  text-align: left;\n",
       "  /* unfitted */\n",
       "  background-color: var(--sklearn-color-unfitted-level-0);\n",
       "}\n",
       "\n",
       "#sk-container-id-7 div.sk-toggleable__content.fitted {\n",
       "  /* fitted */\n",
       "  background-color: var(--sklearn-color-fitted-level-0);\n",
       "}\n",
       "\n",
       "#sk-container-id-7 div.sk-toggleable__content pre {\n",
       "  margin: 0.2em;\n",
       "  border-radius: 0.25em;\n",
       "  color: var(--sklearn-color-text);\n",
       "  /* unfitted */\n",
       "  background-color: var(--sklearn-color-unfitted-level-0);\n",
       "}\n",
       "\n",
       "#sk-container-id-7 div.sk-toggleable__content.fitted pre {\n",
       "  /* unfitted */\n",
       "  background-color: var(--sklearn-color-fitted-level-0);\n",
       "}\n",
       "\n",
       "#sk-container-id-7 input.sk-toggleable__control:checked~div.sk-toggleable__content {\n",
       "  /* Expand drop-down */\n",
       "  max-height: 200px;\n",
       "  max-width: 100%;\n",
       "  overflow: auto;\n",
       "}\n",
       "\n",
       "#sk-container-id-7 input.sk-toggleable__control:checked~label.sk-toggleable__label-arrow:before {\n",
       "  content: \"▾\";\n",
       "}\n",
       "\n",
       "/* Pipeline/ColumnTransformer-specific style */\n",
       "\n",
       "#sk-container-id-7 div.sk-label input.sk-toggleable__control:checked~label.sk-toggleable__label {\n",
       "  color: var(--sklearn-color-text);\n",
       "  background-color: var(--sklearn-color-unfitted-level-2);\n",
       "}\n",
       "\n",
       "#sk-container-id-7 div.sk-label.fitted input.sk-toggleable__control:checked~label.sk-toggleable__label {\n",
       "  background-color: var(--sklearn-color-fitted-level-2);\n",
       "}\n",
       "\n",
       "/* Estimator-specific style */\n",
       "\n",
       "/* Colorize estimator box */\n",
       "#sk-container-id-7 div.sk-estimator input.sk-toggleable__control:checked~label.sk-toggleable__label {\n",
       "  /* unfitted */\n",
       "  background-color: var(--sklearn-color-unfitted-level-2);\n",
       "}\n",
       "\n",
       "#sk-container-id-7 div.sk-estimator.fitted input.sk-toggleable__control:checked~label.sk-toggleable__label {\n",
       "  /* fitted */\n",
       "  background-color: var(--sklearn-color-fitted-level-2);\n",
       "}\n",
       "\n",
       "#sk-container-id-7 div.sk-label label.sk-toggleable__label,\n",
       "#sk-container-id-7 div.sk-label label {\n",
       "  /* The background is the default theme color */\n",
       "  color: var(--sklearn-color-text-on-default-background);\n",
       "}\n",
       "\n",
       "/* On hover, darken the color of the background */\n",
       "#sk-container-id-7 div.sk-label:hover label.sk-toggleable__label {\n",
       "  color: var(--sklearn-color-text);\n",
       "  background-color: var(--sklearn-color-unfitted-level-2);\n",
       "}\n",
       "\n",
       "/* Label box, darken color on hover, fitted */\n",
       "#sk-container-id-7 div.sk-label.fitted:hover label.sk-toggleable__label.fitted {\n",
       "  color: var(--sklearn-color-text);\n",
       "  background-color: var(--sklearn-color-fitted-level-2);\n",
       "}\n",
       "\n",
       "/* Estimator label */\n",
       "\n",
       "#sk-container-id-7 div.sk-label label {\n",
       "  font-family: monospace;\n",
       "  font-weight: bold;\n",
       "  display: inline-block;\n",
       "  line-height: 1.2em;\n",
       "}\n",
       "\n",
       "#sk-container-id-7 div.sk-label-container {\n",
       "  text-align: center;\n",
       "}\n",
       "\n",
       "/* Estimator-specific */\n",
       "#sk-container-id-7 div.sk-estimator {\n",
       "  font-family: monospace;\n",
       "  border: 1px dotted var(--sklearn-color-border-box);\n",
       "  border-radius: 0.25em;\n",
       "  box-sizing: border-box;\n",
       "  margin-bottom: 0.5em;\n",
       "  /* unfitted */\n",
       "  background-color: var(--sklearn-color-unfitted-level-0);\n",
       "}\n",
       "\n",
       "#sk-container-id-7 div.sk-estimator.fitted {\n",
       "  /* fitted */\n",
       "  background-color: var(--sklearn-color-fitted-level-0);\n",
       "}\n",
       "\n",
       "/* on hover */\n",
       "#sk-container-id-7 div.sk-estimator:hover {\n",
       "  /* unfitted */\n",
       "  background-color: var(--sklearn-color-unfitted-level-2);\n",
       "}\n",
       "\n",
       "#sk-container-id-7 div.sk-estimator.fitted:hover {\n",
       "  /* fitted */\n",
       "  background-color: var(--sklearn-color-fitted-level-2);\n",
       "}\n",
       "\n",
       "/* Specification for estimator info (e.g. \"i\" and \"?\") */\n",
       "\n",
       "/* Common style for \"i\" and \"?\" */\n",
       "\n",
       ".sk-estimator-doc-link,\n",
       "a:link.sk-estimator-doc-link,\n",
       "a:visited.sk-estimator-doc-link {\n",
       "  float: right;\n",
       "  font-size: smaller;\n",
       "  line-height: 1em;\n",
       "  font-family: monospace;\n",
       "  background-color: var(--sklearn-color-background);\n",
       "  border-radius: 1em;\n",
       "  height: 1em;\n",
       "  width: 1em;\n",
       "  text-decoration: none !important;\n",
       "  margin-left: 1ex;\n",
       "  /* unfitted */\n",
       "  border: var(--sklearn-color-unfitted-level-1) 1pt solid;\n",
       "  color: var(--sklearn-color-unfitted-level-1);\n",
       "}\n",
       "\n",
       ".sk-estimator-doc-link.fitted,\n",
       "a:link.sk-estimator-doc-link.fitted,\n",
       "a:visited.sk-estimator-doc-link.fitted {\n",
       "  /* fitted */\n",
       "  border: var(--sklearn-color-fitted-level-1) 1pt solid;\n",
       "  color: var(--sklearn-color-fitted-level-1);\n",
       "}\n",
       "\n",
       "/* On hover */\n",
       "div.sk-estimator:hover .sk-estimator-doc-link:hover,\n",
       ".sk-estimator-doc-link:hover,\n",
       "div.sk-label-container:hover .sk-estimator-doc-link:hover,\n",
       ".sk-estimator-doc-link:hover {\n",
       "  /* unfitted */\n",
       "  background-color: var(--sklearn-color-unfitted-level-3);\n",
       "  color: var(--sklearn-color-background);\n",
       "  text-decoration: none;\n",
       "}\n",
       "\n",
       "div.sk-estimator.fitted:hover .sk-estimator-doc-link.fitted:hover,\n",
       ".sk-estimator-doc-link.fitted:hover,\n",
       "div.sk-label-container:hover .sk-estimator-doc-link.fitted:hover,\n",
       ".sk-estimator-doc-link.fitted:hover {\n",
       "  /* fitted */\n",
       "  background-color: var(--sklearn-color-fitted-level-3);\n",
       "  color: var(--sklearn-color-background);\n",
       "  text-decoration: none;\n",
       "}\n",
       "\n",
       "/* Span, style for the box shown on hovering the info icon */\n",
       ".sk-estimator-doc-link span {\n",
       "  display: none;\n",
       "  z-index: 9999;\n",
       "  position: relative;\n",
       "  font-weight: normal;\n",
       "  right: .2ex;\n",
       "  padding: .5ex;\n",
       "  margin: .5ex;\n",
       "  width: min-content;\n",
       "  min-width: 20ex;\n",
       "  max-width: 50ex;\n",
       "  color: var(--sklearn-color-text);\n",
       "  box-shadow: 2pt 2pt 4pt #999;\n",
       "  /* unfitted */\n",
       "  background: var(--sklearn-color-unfitted-level-0);\n",
       "  border: .5pt solid var(--sklearn-color-unfitted-level-3);\n",
       "}\n",
       "\n",
       ".sk-estimator-doc-link.fitted span {\n",
       "  /* fitted */\n",
       "  background: var(--sklearn-color-fitted-level-0);\n",
       "  border: var(--sklearn-color-fitted-level-3);\n",
       "}\n",
       "\n",
       ".sk-estimator-doc-link:hover span {\n",
       "  display: block;\n",
       "}\n",
       "\n",
       "/* \"?\"-specific style due to the `<a>` HTML tag */\n",
       "\n",
       "#sk-container-id-7 a.estimator_doc_link {\n",
       "  float: right;\n",
       "  font-size: 1rem;\n",
       "  line-height: 1em;\n",
       "  font-family: monospace;\n",
       "  background-color: var(--sklearn-color-background);\n",
       "  border-radius: 1rem;\n",
       "  height: 1rem;\n",
       "  width: 1rem;\n",
       "  text-decoration: none;\n",
       "  /* unfitted */\n",
       "  color: var(--sklearn-color-unfitted-level-1);\n",
       "  border: var(--sklearn-color-unfitted-level-1) 1pt solid;\n",
       "}\n",
       "\n",
       "#sk-container-id-7 a.estimator_doc_link.fitted {\n",
       "  /* fitted */\n",
       "  border: var(--sklearn-color-fitted-level-1) 1pt solid;\n",
       "  color: var(--sklearn-color-fitted-level-1);\n",
       "}\n",
       "\n",
       "/* On hover */\n",
       "#sk-container-id-7 a.estimator_doc_link:hover {\n",
       "  /* unfitted */\n",
       "  background-color: var(--sklearn-color-unfitted-level-3);\n",
       "  color: var(--sklearn-color-background);\n",
       "  text-decoration: none;\n",
       "}\n",
       "\n",
       "#sk-container-id-7 a.estimator_doc_link.fitted:hover {\n",
       "  /* fitted */\n",
       "  background-color: var(--sklearn-color-fitted-level-3);\n",
       "}\n",
       "</style><div id=\"sk-container-id-7\" class=\"sk-top-container\"><div class=\"sk-text-repr-fallback\"><pre>Pipeline(steps=[(&#x27;tfidf&#x27;, TfidfVectorizer()),\n",
       "                (&#x27;svm&#x27;, SVC(C=1, kernel=&#x27;linear&#x27;))])</pre><b>In a Jupyter environment, please rerun this cell to show the HTML representation or trust the notebook. <br />On GitHub, the HTML representation is unable to render, please try loading this page with nbviewer.org.</b></div><div class=\"sk-container\" hidden><div class=\"sk-item sk-dashed-wrapped\"><div class=\"sk-label-container\"><div class=\"sk-label fitted sk-toggleable\"><input class=\"sk-toggleable__control sk-hidden--visually\" id=\"sk-estimator-id-19\" type=\"checkbox\" ><label for=\"sk-estimator-id-19\" class=\"sk-toggleable__label fitted sk-toggleable__label-arrow fitted\">&nbsp;&nbsp;Pipeline<a class=\"sk-estimator-doc-link fitted\" rel=\"noreferrer\" target=\"_blank\" href=\"https://scikit-learn.org/1.4/modules/generated/sklearn.pipeline.Pipeline.html\">?<span>Documentation for Pipeline</span></a><span class=\"sk-estimator-doc-link fitted\">i<span>Fitted</span></span></label><div class=\"sk-toggleable__content fitted\"><pre>Pipeline(steps=[(&#x27;tfidf&#x27;, TfidfVectorizer()),\n",
       "                (&#x27;svm&#x27;, SVC(C=1, kernel=&#x27;linear&#x27;))])</pre></div> </div></div><div class=\"sk-serial\"><div class=\"sk-item\"><div class=\"sk-estimator fitted sk-toggleable\"><input class=\"sk-toggleable__control sk-hidden--visually\" id=\"sk-estimator-id-20\" type=\"checkbox\" ><label for=\"sk-estimator-id-20\" class=\"sk-toggleable__label fitted sk-toggleable__label-arrow fitted\">&nbsp;TfidfVectorizer<a class=\"sk-estimator-doc-link fitted\" rel=\"noreferrer\" target=\"_blank\" href=\"https://scikit-learn.org/1.4/modules/generated/sklearn.feature_extraction.text.TfidfVectorizer.html\">?<span>Documentation for TfidfVectorizer</span></a></label><div class=\"sk-toggleable__content fitted\"><pre>TfidfVectorizer()</pre></div> </div></div><div class=\"sk-item\"><div class=\"sk-estimator fitted sk-toggleable\"><input class=\"sk-toggleable__control sk-hidden--visually\" id=\"sk-estimator-id-21\" type=\"checkbox\" ><label for=\"sk-estimator-id-21\" class=\"sk-toggleable__label fitted sk-toggleable__label-arrow fitted\">&nbsp;SVC<a class=\"sk-estimator-doc-link fitted\" rel=\"noreferrer\" target=\"_blank\" href=\"https://scikit-learn.org/1.4/modules/generated/sklearn.svm.SVC.html\">?<span>Documentation for SVC</span></a></label><div class=\"sk-toggleable__content fitted\"><pre>SVC(C=1, kernel=&#x27;linear&#x27;)</pre></div> </div></div></div></div></div></div>"
      ],
      "text/plain": [
       "Pipeline(steps=[('tfidf', TfidfVectorizer()),\n",
       "                ('svm', SVC(C=1, kernel='linear'))])"
      ]
     },
     "execution_count": 71,
     "metadata": {},
     "output_type": "execute_result"
    }
   ],
   "source": [
    "# Create a pipeline with TF-IDF vectorizer and MultiOutputClassifier with SVM classifier\n",
    "svm = Pipeline([\n",
    "    ('tfidf', TfidfVectorizer()),\n",
    "    ('svm', SVC(kernel='linear', C=1))\n",
    "])\n",
    "# Train the model\n",
    "svm.fit(X_train, y_train['stars'])"
   ]
  },
  {
   "cell_type": "code",
   "execution_count": 72,
   "id": "ca07206b399c3502",
   "metadata": {
    "ExecuteTime": {
     "end_time": "2024-04-09T05:01:52.449542300Z",
     "start_time": "2024-04-09T05:01:37.415135400Z"
    },
    "collapsed": false,
    "jupyter": {
     "outputs_hidden": false
    }
   },
   "outputs": [
    {
     "name": "stdout",
     "output_type": "stream",
     "text": [
      "Classification Report for label               precision    recall  f1-score   support\n",
      "\n",
      "         1.0       0.73      0.74      0.73       455\n",
      "         2.0       0.41      0.28      0.34       303\n",
      "         3.0       0.41      0.31      0.35       448\n",
      "         4.0       0.49      0.46      0.47      1003\n",
      "         5.0       0.72      0.84      0.78      1791\n",
      "\n",
      "    accuracy                           0.63      4000\n",
      "   macro avg       0.55      0.52      0.53      4000\n",
      "weighted avg       0.61      0.63      0.61      4000\n"
     ]
    }
   ],
   "source": [
    "# Prediction on test set and report for stars model rating\n",
    "y_pred = svm.predict(X_test)\n",
    "label_report_stars = classification_report(y_test['stars'], y_pred,zero_division=1)\n",
    "print(\"Classification Report for label\", label_report_stars)"
   ]
  },
  {
   "cell_type": "markdown",
   "id": "25d986df41ceafe7",
   "metadata": {
    "collapsed": false,
    "jupyter": {
     "outputs_hidden": false
    }
   },
   "source": [
    "<h3> Regression Model: SVR </h3>"
   ]
  },
  {
   "cell_type": "code",
   "execution_count": 52,
   "id": "d5967138fe74c46f",
   "metadata": {
    "ExecuteTime": {
     "end_time": "2024-04-09T04:36:33.564613300Z",
     "start_time": "2024-04-09T04:36:32.792226Z"
    },
    "collapsed": false,
    "jupyter": {
     "outputs_hidden": false
    }
   },
   "outputs": [],
   "source": [
    "tfid = TfidfVectorizer()\n",
    "X_train_regression = tfid.fit_transform(X_train)\n",
    "X_test_regression =  tfid.transform(X_test)"
   ]
  },
  {
   "cell_type": "code",
   "execution_count": 40,
   "id": "6edfdcea1f70ac59",
   "metadata": {
    "ExecuteTime": {
     "end_time": "2024-04-09T03:43:16.314265800Z",
     "start_time": "2024-04-09T03:40:57.594211800Z"
    },
    "collapsed": false,
    "jupyter": {
     "outputs_hidden": false
    }
   },
   "outputs": [
    {
     "name": "stdout",
     "output_type": "stream",
     "text": [
      "Mean Squared Error: 0.8128874208733926\n"
     ]
    }
   ],
   "source": [
    "\n",
    "# Create SVR model for cool\n",
    "svr_model_cool = SVR(kernel='rbf', gamma='scale',epsilon=0.1,C=1)  # Radial Basis Function (RBF) kernel is commonly used\n",
    "# Other kernels you can try: 'linear', 'poly', 'sigmoid'\n",
    "\n",
    "# Train the model\n",
    "svr_model_cool.fit(X_train_regression, y_train['cool'])\n",
    "\n",
    "# Predict on the test set\n",
    "y_pred = svr_model_cool.predict(X_test_regression)\n",
    "\n",
    "# Calculate Mean Squared Error (MSE) as a metric\n",
    "mse = mean_squared_error(y_test['cool'], y_pred)\n",
    "print(\"Mean Squared Error:\", mse)\n",
    "# \n",
    "# # Calculate R-squared (R2)\n",
    "# r2 = r2_score(y_test['cool'], y_pred)\n",
    "# print(\"R-squared (R2):\", r2)"
   ]
  },
  {
   "cell_type": "code",
   "execution_count": 39,
   "id": "b73a31dc76fc76fc",
   "metadata": {
    "ExecuteTime": {
     "end_time": "2024-04-09T03:40:57.593211100Z",
     "start_time": "2024-04-09T03:38:50.811530200Z"
    },
    "collapsed": false,
    "jupyter": {
     "outputs_hidden": false
    }
   },
   "outputs": [
    {
     "name": "stdout",
     "output_type": "stream",
     "text": [
      "Mean Squared Error: 0.5545578195524139\n"
     ]
    }
   ],
   "source": [
    "# Create SVR model for funny\n",
    "svr_model_f = SVR(kernel='rbf', gamma='scale',epsilon=0.1,C=1)  # Radial Basis Function (RBF) kernel is commonly used\n",
    "# Other kernels you can try: 'linear', 'poly', 'sigmoid'\n",
    "\n",
    "# Train the model\n",
    "svr_model_f.fit(X_train_regression, y_train['funny'])\n",
    "\n",
    "# Predict on the test set\n",
    "y_pred = svr_model_f.predict(X_test_regression)\n",
    "\n",
    "# Calculate Mean Squared Error (MSE) as a metric\n",
    "mse = mean_squared_error(y_test['funny'], y_pred)\n",
    "print(\"Mean Squared Error:\", mse)"
   ]
  },
  {
   "cell_type": "code",
   "execution_count": 46,
   "id": "5668657cbff6000c",
   "metadata": {
    "ExecuteTime": {
     "end_time": "2024-04-09T04:04:00.096061Z",
     "start_time": "2024-04-09T04:01:32.845704300Z"
    },
    "collapsed": false,
    "jupyter": {
     "outputs_hidden": false
    }
   },
   "outputs": [
    {
     "name": "stdout",
     "output_type": "stream",
     "text": [
      "Mean Squared Error: 5.318374928536016\n"
     ]
    }
   ],
   "source": [
    "# Create SVR model for useful\n",
    "svr_model_u = SVR(kernel='rbf', gamma='scale',epsilon=0.1,C=1)  # Radial Basis Function (RBF) kernel is commonly used\n",
    "# Other kernels you can try: 'linear', 'poly', 'sigmoid'\n",
    "\n",
    "# Train the model\n",
    "svr_model_u.fit(X_train_regression, y_train['useful'])\n",
    "\n",
    "# Predict on the test set\n",
    "y_pred = svr_model_u.predict(X_test_regression)\n",
    "\n",
    "# Calculate Mean Squared Error (MSE) as a metric\n",
    "mse = mean_squared_error(y_test['useful'], y_pred)\n",
    "print(\"Mean Squared Error:\", mse)"
   ]
  },
  {
   "cell_type": "markdown",
   "id": "d871955a4dda6a0f",
   "metadata": {
    "collapsed": false,
    "jupyter": {
     "outputs_hidden": false
    }
   },
   "source": [
    "<h3>Parameter Testing Code: SVR</h3>"
   ]
  },
  {
   "cell_type": "code",
   "execution_count": 86,
   "id": "f259d9c4c86f6f9e",
   "metadata": {
    "ExecuteTime": {
     "end_time": "2024-04-08T22:35:20.770976700Z",
     "start_time": "2024-04-08T22:28:57.334979100Z"
    },
    "collapsed": false,
    "jupyter": {
     "outputs_hidden": false
    }
   },
   "outputs": [],
   "source": [
    "# # Define the parameter grid\n",
    "# parameters = {\n",
    "#     'C': [0.1, 1, 10, 100],\n",
    "#     'kernel': ['linear', 'rbf', 'poly', 'sigmoid'],\n",
    "#     'gamma': ['scale', 'auto', 0.1, 1, 10],\n",
    "#     'epsilon': [0.01, 0.1, 0.5, 1]\n",
    "# }\n",
    "# # Create SVR model\n",
    "# svr_model = SVR()\n",
    "# # Instantiate GridSearchCV\n",
    "# grid_search = GridSearchCV(estimator=svr_model, param_grid=parameters, cv=5, scoring='neg_mean_squared_error')\n",
    "# # Fit the grid search to the data\n",
    "# grid_search.fit(X_train_regression, y_train['cool'])\n",
    "# # Get the best parameters and best score\n",
    "# best_params = grid_search.best_params_\n",
    "# best_score = grid_search.best_score_\n",
    "# print(best_params)\n",
    "# print(best_score)"
   ]
  },
  {
   "cell_type": "code",
   "execution_count": 87,
   "id": "c33af59551377c75",
   "metadata": {
    "ExecuteTime": {
     "end_time": "2024-04-08T22:36:27.521693300Z",
     "start_time": "2024-04-08T22:36:27.516313200Z"
    },
    "collapsed": false,
    "jupyter": {
     "outputs_hidden": false
    }
   },
   "outputs": [
    {
     "name": "stdout",
     "output_type": "stream",
     "text": [
      "{'C': 1, 'epsilon': 0.1, 'gamma': 'scale', 'kernel': 'rbf'}\n",
      "-0.9447726515600289\n"
     ]
    }
   ],
   "source": []
  },
  {
   "cell_type": "markdown",
   "id": "171f7e7a15b9045e",
   "metadata": {
    "collapsed": false,
    "jupyter": {
     "outputs_hidden": false
    }
   },
   "source": [
    "<h3>Frequency Graph Code</h3>"
   ]
  },
  {
   "cell_type": "code",
   "execution_count": 43,
   "id": "5c3af6a6ec5c3d3f",
   "metadata": {
    "ExecuteTime": {
     "end_time": "2024-04-09T03:45:50.588424500Z",
     "start_time": "2024-04-09T03:45:50.495018500Z"
    },
    "collapsed": false,
    "jupyter": {
     "outputs_hidden": false
    }
   },
   "outputs": [
    {
     "data": {
      "image/png": "[encoded data removed]",
      "text/plain": [
       "<Figure size 640x480 with 1 Axes>"
      ]
     },
     "metadata": {},
     "output_type": "display_data"
    }
   ],
   "source": [
    "# import matplotlib.pyplot as plt\n",
    "# \n",
    "# values = y_train['cool'].value_counts().sort_index()\n",
    "# plt.bar(values.index, values.values)\n",
    "# \n",
    "# # # Adding labels and title\n",
    "# plt.xlabel('Cool Scores')\n",
    "# plt.ylabel('Frequency')\n",
    "# plt.title('Frequency of Each Cool Scores')\n",
    "# # Show plot\n",
    "# plt.show()"
   ]
  },
  {
   "cell_type": "code",
   "execution_count": null,
   "id": "1d3f5bec1c82497b",
   "metadata": {
    "collapsed": false,
    "jupyter": {
     "outputs_hidden": false
    }
   },
   "outputs": [],
   "source": []
  }
 ],
 "metadata": {
  "kernelspec": {
   "display_name": "Python 3 (ipykernel)",
   "language": "python",
   "name": "python3"
  },
  "language_info": {
   "codemirror_mode": {
    "name": "ipython",
    "version": 3
   },
   "file_extension": ".py",
   "mimetype": "text/x-python",
   "name": "python",
   "nbconvert_exporter": "python",
   "pygments_lexer": "ipython3",
   "version": "3.12.1"
  }
 },
 "nbformat": 4,
 "nbformat_minor": 5
}
